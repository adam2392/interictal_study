{
 "cells": [
  {
   "cell_type": "markdown",
   "metadata": {},
   "source": [
    "# Source Sink Algorithm Validation Algorithm - Interictal Data\n",
    "\n"
   ]
  },
  {
   "cell_type": "code",
   "execution_count": 16,
   "metadata": {},
   "outputs": [
    {
     "name": "stdout",
     "output_type": "stream",
     "text": [
      "The lab_black extension is already loaded. To reload it, use:\n",
      "  %reload_ext lab_black\n"
     ]
    }
   ],
   "source": [
    "%load_ext lab_black"
   ]
  },
  {
   "cell_type": "code",
   "execution_count": 18,
   "metadata": {},
   "outputs": [],
   "source": [
    "import numpy as np\n",
    "import scipy\n",
    "import scipy.io\n",
    "import pandas as pd\n",
    "from pathlib import Path\n",
    "import os\n",
    "import collections\n",
    "from natsort import natsorted\n",
    "import json\n",
    "import pickle\n",
    "\n",
    "from sklearn.preprocessing import OrdinalEncoder\n",
    "from sklearn.dummy import DummyClassifier\n",
    "from sklearn.ensemble import RandomForestClassifier\n",
    "from sklearn.calibration import calibration_curve\n",
    "from sklearn.metrics import (\n",
    "    brier_score_loss,\n",
    "    roc_curve,\n",
    "    average_precision_score,\n",
    "    roc_auc_score,\n",
    "    f1_score,\n",
    "    balanced_accuracy_score,\n",
    "    accuracy_score,\n",
    "    auc,\n",
    "    plot_precision_recall_curve,\n",
    "    average_precision_score,\n",
    "    precision_recall_curve,\n",
    ")\n",
    "from sklearn.model_selection import (\n",
    "    GroupKFold,\n",
    "    GroupShuffleSplit,\n",
    "    ShuffleSplit,\n",
    "    cross_validate,\n",
    ")\n",
    "from sklearn.utils import resample\n",
    "\n",
    "from mne_bids import BIDSPath, get_entities_from_fname, get_entity_vals\n",
    "\n",
    "from rerf.rerfClassifier import rerfClassifier\n",
    "from oblique_forests.sporf import ObliqueForestClassifier\n",
    "\n",
    "import matplotlib as mpl\n",
    "import matplotlib.pyplot as plt\n",
    "import seaborn as sns"
   ]
  },
  {
   "cell_type": "code",
   "execution_count": 19,
   "metadata": {},
   "outputs": [],
   "source": [
    "class MatReader:\n",
    "    \"\"\"\n",
    "    Object to read mat files into a nested dictionary if need be.\n",
    "    Helps keep strucutre from matlab similar to what is used in python.\n",
    "    \"\"\"\n",
    "\n",
    "    def __init__(self, filename=None):\n",
    "        self.filename = filename\n",
    "\n",
    "    def loadmat(self, filename):\n",
    "        \"\"\"\n",
    "        this function should be called instead of direct spio.loadmat\n",
    "        as it cures the problem of not properly recovering python dictionaries\n",
    "        from mat files. It calls the function check keys to cure all entries\n",
    "        which are still mat-objects\n",
    "        \"\"\"\n",
    "        try:\n",
    "            data = scipy.io.loadmat(\n",
    "                filename, struct_as_record=False, squeeze_me=True, chars_as_strings=True\n",
    "            )\n",
    "        except NotImplementedError as e:\n",
    "            print(e)\n",
    "            data = hdf5storage.loadmat(filename)\n",
    "        return self._check_keys(data)\n",
    "\n",
    "    def _check_keys(self, dict):\n",
    "        \"\"\"\n",
    "        checks if entries in dictionary are mat-objects. If yes\n",
    "        todict is called to change them to nested dictionaries\n",
    "        \"\"\"\n",
    "        for key in dict:\n",
    "            if isinstance(dict[key], scipy.io.matlab.mio5_params.mat_struct):\n",
    "                dict[key] = self._todict(dict[key])\n",
    "        return dict\n",
    "\n",
    "    def _todict(self, matobj):\n",
    "        \"\"\"\n",
    "        A recursive function which constructs from matobjects nested dictionaries\n",
    "        \"\"\"\n",
    "        dict = {}\n",
    "        for strg in matobj._fieldnames:\n",
    "            elem = matobj.__dict__[strg]\n",
    "            if isinstance(elem, scipy.io.matlab.mio5_params.mat_struct):\n",
    "                dict[strg] = self._todict(elem)\n",
    "            elif isinstance(elem, np.ndarray):\n",
    "                dict[strg] = self._tolist(elem)\n",
    "            else:\n",
    "                dict[strg] = elem\n",
    "        return dict\n",
    "\n",
    "    def _tolist(self, ndarray):\n",
    "        \"\"\"\n",
    "        A recursive function which constructs lists from cellarrays\n",
    "        (which are loaded as numpy ndarrays), recursing into the elements\n",
    "        if they contain matobjects.\n",
    "        \"\"\"\n",
    "        elem_list = []\n",
    "        for sub_elem in ndarray:\n",
    "            if isinstance(sub_elem, scipy.io.matlab.mio5_params.mat_struct):\n",
    "                elem_list.append(self._todict(sub_elem))\n",
    "            elif isinstance(sub_elem, np.ndarray):\n",
    "                elem_list.append(self._tolist(sub_elem))\n",
    "            else:\n",
    "                elem_list.append(sub_elem)\n",
    "        return elem_list"
   ]
  },
  {
   "cell_type": "markdown",
   "metadata": {},
   "source": [
    "# Setup Data Directory"
   ]
  },
  {
   "cell_type": "code",
   "execution_count": 21,
   "metadata": {},
   "outputs": [],
   "source": [
    "root = Path(\"/Users/adam2392/Dropbox/epilepsy_interictal\")\n",
    "root = Path(\"/home/adam2392/hdd/Dropbox/epilepsy_interictal\")\n",
    "deriv_root = root / \"derivatives\"\n",
    "source_root = root / \"sourcedata\"\n",
    "\n",
    "session = \"presurgery\"\n",
    "task = \"interictal\"\n",
    "acquisition = \"seeg\"  # note not all subjects are actually sEEG\n",
    "reference = \"car\"\n",
    "deriv_chain = Path(\"sourcesink\") / reference / \"remove_artifact_wins\"\n",
    "\n",
    "deriv_path = deriv_root / deriv_chain"
   ]
  },
  {
   "cell_type": "code",
   "execution_count": 22,
   "metadata": {},
   "outputs": [],
   "source": [
    "meta_fpath = source_root / \"ieeg_database_all.xlsx\""
   ]
  },
  {
   "cell_type": "code",
   "execution_count": 23,
   "metadata": {},
   "outputs": [
    {
     "name": "stdout",
     "output_type": "stream",
     "text": [
      "['002', '003', '004', '005', '006', '009', '011', '013', '014', '015', 'NIH1', 'NIH2', 'NIH3', 'NIH4', 'NIH5', 'NIH7', 'NIH8', 'NIH9', 'NIH10', 'NIH11', 'PY18N002', 'PY18N013', 'PY18N015', 'PY19N012', 'PY19N015', 'PY19N023', 'PY19N026', 'la01', 'la02', 'la03', 'la04', 'la05', 'la06', 'la07', 'la08', 'la09', 'la10', 'la11', 'la13', 'la15', 'la16', 'la21', 'la22', 'la23', 'la24', 'nl01', 'nl02', 'nl04', 'nl05', 'nl06', 'nl07', 'nl08', 'nl11', 'nl12', 'nl13', 'nl14', 'nl15', 'nl16', 'nl18', 'nl19', 'nl20', 'pt1', 'pt2', 'pt3', 'pt4', 'pt5', 'pt6', 'pt7', 'pt8', 'pt9', 'pt10', 'pt11', 'pt12', 'pt13']\n"
     ]
    }
   ],
   "source": [
    "subjects = natsorted(get_entity_vals(deriv_path, \"subject\"))\n",
    "print(subjects)"
   ]
  },
  {
   "cell_type": "markdown",
   "metadata": {},
   "source": [
    "## Obtain Labels Using Excel Sheet"
   ]
  },
  {
   "cell_type": "code",
   "execution_count": 24,
   "metadata": {},
   "outputs": [
    {
     "data": {
      "text/html": [
       "<div>\n",
       "<style scoped>\n",
       "    .dataframe tbody tr th:only-of-type {\n",
       "        vertical-align: middle;\n",
       "    }\n",
       "\n",
       "    .dataframe tbody tr th {\n",
       "        vertical-align: top;\n",
       "    }\n",
       "\n",
       "    .dataframe thead th {\n",
       "        text-align: right;\n",
       "    }\n",
       "</style>\n",
       "<table border=\"1\" class=\"dataframe\">\n",
       "  <thead>\n",
       "    <tr style=\"text-align: right;\">\n",
       "      <th></th>\n",
       "      <th>org_patientid</th>\n",
       "      <th>patient_id</th>\n",
       "      <th>number_datasets</th>\n",
       "      <th>clinical_center</th>\n",
       "      <th>modality</th>\n",
       "      <th>sfreq</th>\n",
       "      <th>previous_surgery?</th>\n",
       "      <th>clinical_complexity</th>\n",
       "      <th>engel_score</th>\n",
       "      <th>ilae_score</th>\n",
       "      <th>...</th>\n",
       "      <th>mri_outcome</th>\n",
       "      <th>postop_progress_info</th>\n",
       "      <th>date_of_recording</th>\n",
       "      <th>date_of_surgery</th>\n",
       "      <th>date_of_last_follow_up</th>\n",
       "      <th>years_follow_up</th>\n",
       "      <th>engel_class_full</th>\n",
       "      <th>notes</th>\n",
       "      <th>Unnamed: 38</th>\n",
       "      <th>Unnamed: 39</th>\n",
       "    </tr>\n",
       "  </thead>\n",
       "  <tbody>\n",
       "    <tr>\n",
       "      <th>0</th>\n",
       "      <td>NaN</td>\n",
       "      <td>la01</td>\n",
       "      <td>1</td>\n",
       "      <td>cc</td>\n",
       "      <td>seeg</td>\n",
       "      <td>1000</td>\n",
       "      <td>Y (SEEG implant 4/2013, craniotomy 4/2013)</td>\n",
       "      <td>4</td>\n",
       "      <td>4.0</td>\n",
       "      <td>4.0</td>\n",
       "      <td>...</td>\n",
       "      <td>Normal</td>\n",
       "      <td>Seizure free since surgery.</td>\n",
       "      <td>2013-04-10 02:11:44</td>\n",
       "      <td>2014-01-01 00:00:00</td>\n",
       "      <td>2019-10-01 00:00:00</td>\n",
       "      <td>5</td>\n",
       "      <td>NaN</td>\n",
       "      <td>NaN</td>\n",
       "      <td>NaN</td>\n",
       "      <td>NaN</td>\n",
       "    </tr>\n",
       "    <tr>\n",
       "      <th>1</th>\n",
       "      <td>NaN</td>\n",
       "      <td>la02</td>\n",
       "      <td>1</td>\n",
       "      <td>cc</td>\n",
       "      <td>seeg</td>\n",
       "      <td>1000</td>\n",
       "      <td>VNS implant 4/24/2014</td>\n",
       "      <td>1</td>\n",
       "      <td>1.0</td>\n",
       "      <td>1.0</td>\n",
       "      <td>...</td>\n",
       "      <td>Normal</td>\n",
       "      <td>Seizure free since surgery.</td>\n",
       "      <td>NaN</td>\n",
       "      <td>2015-02-01 00:00:00</td>\n",
       "      <td>2018-11-01 00:00:00</td>\n",
       "      <td>3</td>\n",
       "      <td>NaN</td>\n",
       "      <td>PPT says: Lesion?</td>\n",
       "      <td>NaN</td>\n",
       "      <td>NaN</td>\n",
       "    </tr>\n",
       "  </tbody>\n",
       "</table>\n",
       "<p>2 rows × 40 columns</p>\n",
       "</div>"
      ],
      "text/plain": [
       "  org_patientid patient_id  number_datasets clinical_center modality  sfreq  \\\n",
       "0           NaN       la01                1              cc     seeg   1000   \n",
       "1           NaN       la02                1              cc     seeg   1000   \n",
       "\n",
       "                            previous_surgery? clinical_complexity  \\\n",
       "0  Y (SEEG implant 4/2013, craniotomy 4/2013)                   4   \n",
       "1                       VNS implant 4/24/2014                   1   \n",
       "\n",
       "   engel_score  ilae_score  ... mri_outcome         postop_progress_info  \\\n",
       "0          4.0         4.0  ...      Normal  Seizure free since surgery.   \n",
       "1          1.0         1.0  ...      Normal  Seizure free since surgery.   \n",
       "\n",
       "     date_of_recording      date_of_surgery  date_of_last_follow_up  \\\n",
       "0  2013-04-10 02:11:44  2014-01-01 00:00:00     2019-10-01 00:00:00   \n",
       "1                  NaN  2015-02-01 00:00:00     2018-11-01 00:00:00   \n",
       "\n",
       "  years_follow_up engel_class_full              notes Unnamed: 38 Unnamed: 39  \n",
       "0               5              NaN                NaN         NaN         NaN  \n",
       "1               3              NaN  PPT says: Lesion?         NaN         NaN  \n",
       "\n",
       "[2 rows x 40 columns]"
      ]
     },
     "metadata": {},
     "output_type": "display_data"
    }
   ],
   "source": [
    "meta_df = pd.read_excel(meta_fpath)\n",
    "\n",
    "display(meta_df.head(2))"
   ]
  },
  {
   "cell_type": "markdown",
   "metadata": {},
   "source": [
    "# Obtain Source Sink Data From Each File"
   ]
  },
  {
   "cell_type": "code",
   "execution_count": 25,
   "metadata": {
    "tags": []
   },
   "outputs": [],
   "source": [
    "dataset = collections.defaultdict(list)\n",
    "\n",
    "for subject in subjects:\n",
    "    subj_dir = deriv_path / f\"sub-{subject}\"\n",
    "    fpaths = subj_dir.glob(\"*.mat\")\n",
    "    for idx, fpath in enumerate(fpaths):\n",
    "        data_path = BIDSPath(\n",
    "            subject=subject,\n",
    "            session=session,\n",
    "            task=task,\n",
    "            acquisition=acquisition,\n",
    "            run=idx + 1,\n",
    "            suffix=\"ss_ind\",\n",
    "            extension=\".mat\",\n",
    "            check=False,\n",
    "        )\n",
    "        #         print(f\"Reading {fpath}\")\n",
    "        reader = MatReader()\n",
    "        data_dict = reader.loadmat(fpath)\n",
    "\n",
    "        #         print(data_dict.keys())\n",
    "        ch_names = data_dict[\"labels\"]\n",
    "        soz_chs = data_dict[\"ez_ch\"]\n",
    "        sink_ind = np.array(data_dict[\"sink_index\"])\n",
    "        source_infl = np.array(data_dict[\"source_infl\"])\n",
    "        sink_conn = data_dict[\"sink_conn\"]\n",
    "        ss_ind = data_dict[\"ss_index\"]\n",
    "\n",
    "        dataset[\"subject\"].append(subject)\n",
    "        dataset[\"sink_ind\"].append(sink_ind)\n",
    "        dataset[\"source_infl\"].append(source_infl)\n",
    "        dataset[\"sink_conn\"].append(sink_conn)\n",
    "        dataset[\"ss_ind\"].append(ss_ind)\n",
    "        dataset[\"ch_names\"].append(ch_names)\n",
    "        dataset[\"soz_chs\"].append(soz_chs)\n",
    "\n",
    "#         break\n",
    "\n",
    "#     break"
   ]
  },
  {
   "cell_type": "markdown",
   "metadata": {},
   "source": [
    "## Stratify Source Sink Heatmaps Into Two Sets of Data"
   ]
  },
  {
   "cell_type": "code",
   "execution_count": 26,
   "metadata": {},
   "outputs": [],
   "source": [
    "def plot_subject_feature_map(dataset, desired_subject, feature_name):\n",
    "    for idx, subject in enumerate(dataset[\"subject\"]):\n",
    "        # get the index of the subject\n",
    "        if subject != desired_subject:\n",
    "            continue\n",
    "\n",
    "        # get the metadata\n",
    "        soz_chs = dataset[\"soz_chs\"][idx]\n",
    "        ch_names = dataset[\"ch_names\"][idx]\n",
    "        soz_inds = [idx for idx, ch in enumerate(ch_names) if ch in soz_chs]\n",
    "        nsoz_inds = [idx for idx in range(len(ch_names)) if idx not in soz_inds]\n",
    "\n",
    "        # get the data\n",
    "        feature_map = dataset[feature_name][idx]\n",
    "\n",
    "        # stratify data into two sets of signals\n",
    "        soz_feat = feature_map[soz_inds, :]\n",
    "        nsoz_feat = feature_map[nsoz_inds, :]\n",
    "\n",
    "        x = np.arange(soz_feat.shape[1])\n",
    "\n",
    "        sns.set_context(\"paper\", font_scale=1.75)\n",
    "        fig, ax = plt.subplots()\n",
    "        #     plt.tick_params(labelsize=14)\n",
    "        y_mean = soz_feat.mean(axis=0)\n",
    "        y_sem = scipy.stats.sem(soz_feat, axis=0)\n",
    "        ax.plot(x, y_mean, label=\"soz\", color=\"red\")\n",
    "        ax.fill_between(x, y_mean - y_sem, y_mean + y_sem, color=\"red\", alpha=0.5)\n",
    "\n",
    "        y_mean = nsoz_feat.mean(axis=0)\n",
    "        y_sem = scipy.stats.sem(nsoz_feat, axis=0)\n",
    "        ax.plot(x, y_mean, label=\"soz^c\", color=\"black\")\n",
    "        ax.fill_between(x, y_mean - y_sem, y_mean + y_sem, color=\"black\", alpha=0.5)\n",
    "\n",
    "        ax.set(\n",
    "            title=f\"Subject {subject} - {feature_name}\",\n",
    "            xlabel=\"Time (A.U.)\",\n",
    "            ylabel=f\"{feature_name} Value\",\n",
    "            #         font_size=20,\n",
    "        )\n",
    "        ax.legend()\n",
    "        break"
   ]
  },
  {
   "cell_type": "markdown",
   "metadata": {},
   "source": [
    "# Disc\n",
    "\n",
    "Hypothesis: All indices should be higher in SOZ vs SOZ^C.\n",
    "\n",
    "source_infl, sink_conn, sink_ind all from A matrix, but not directly from each other\n",
    "ss_ind = source_infl * sink_conn * sink_ind\n",
    "\n",
    "Exps:\n",
    "- source_infl -> quantile vectors -> RF -> cv\n",
    "- sink_conn -> ''\n",
    "- sink_ind -> ''\n",
    "- source_infl, sink_conn, sink_ind -> quantile vectors -> RF -> cv\n",
    "- ^ repeat the above 4, but instead take E[A] first, and the average A -> source_infl (vector) -> quantile\n",
    "\n",
    "Note: ss_ind = combination of all three, so no need to add"
   ]
  },
  {
   "cell_type": "code",
   "execution_count": 67,
   "metadata": {
    "jupyter": {
     "source_hidden": true
    }
   },
   "outputs": [],
   "source": [
    "n_splits = 10\n",
    "train_size = 0.7\n",
    "random_state = 12345\n",
    "\n",
    "subject_groups = np.array(subjects)"
   ]
  },
  {
   "cell_type": "code",
   "execution_count": 68,
   "metadata": {
    "jupyter": {
     "source_hidden": true
    }
   },
   "outputs": [],
   "source": [
    "cv = ShuffleSplit(n_splits=n_splits, train_size=train_size, random_state=random_state)"
   ]
  },
  {
   "cell_type": "code",
   "execution_count": 69,
   "metadata": {
    "jupyter": {
     "source_hidden": true
    }
   },
   "outputs": [],
   "source": [
    "train_index = []\n",
    "test_index = []\n",
    "\n",
    "for jdx, (train_idx, test_idx) in enumerate(cv.split(X, y, subject_groups)):\n",
    "    train_index.append(train_idx)\n",
    "    test_index.append(test_idx)\n",
    "\n",
    "# clf = RandomForestClassifier(**model_params)"
   ]
  },
  {
   "cell_type": "code",
   "execution_count": 90,
   "metadata": {},
   "outputs": [
    {
     "data": {
      "image/png": "[encoded data removed]",
      "text/plain": [
       "<Figure size 432x288 with 1 Axes>"
      ]
     },
     "metadata": {
      "needs_background": "light"
     },
     "output_type": "display_data"
    }
   ],
   "source": [
    "desired_subject = \"la02\"\n",
    "feature_name = \"sink_ind\"\n",
    "\n",
    "plot_subject_feature_map(dataset, desired_subject, feature_name)"
   ]
  },
  {
   "cell_type": "code",
   "execution_count": 91,
   "metadata": {},
   "outputs": [],
   "source": [
    "# feature_name = ''\n",
    "\n",
    "# create X, y pair for training\n",
    "X = []\n",
    "y = []\n",
    "engels = []\n",
    "ilaes = []\n",
    "subjects = []\n",
    "\n",
    "for idx, subject in enumerate(dataset[\"subject\"]):\n",
    "    # get the metadata\n",
    "    soz_chs = dataset[\"soz_chs\"][idx]\n",
    "    ch_names = dataset[\"ch_names\"][idx]\n",
    "    soz_inds = [idx for idx, ch in enumerate(ch_names) if ch in soz_chs]\n",
    "    nsoz_inds = [idx for idx in range(len(ch_names)) if idx not in soz_inds]\n",
    "\n",
    "    # get the data\n",
    "    feature_map = dataset[feature_name][idx]\n",
    "\n",
    "    # stratify data into two sets of signals\n",
    "    soz_feat = feature_map[soz_inds, :]\n",
    "    nsoz_feat = feature_map[nsoz_inds, :]\n",
    "\n",
    "    # compute quantiles in each\n",
    "    qtiles = np.linspace(0.1, 1.0, 10)\n",
    "\n",
    "    # create a time-varying quantile heatmap\n",
    "    soz_quant_map = np.vstack([np.quantile(soz_feat, q=q, axis=0) for q in qtiles])\n",
    "    nsoz_quant_map = np.vstack([np.quantile(nsoz_feat, q=q, axis=0) for q in qtiles])\n",
    "    new_data_feat = np.vstack(\n",
    "        (\n",
    "            np.mean(soz_feat, axis=0),\n",
    "            np.std(soz_feat, axis=0),\n",
    "            soz_quant_map,\n",
    "            np.mean(nsoz_feat, axis=0),\n",
    "            np.std(nsoz_feat, axis=0),\n",
    "            nsoz_quant_map,\n",
    "        )\n",
    "    )\n",
    "    #     sns.heatmap(new_data_feat)\n",
    "    new_data_feat = np.mean(new_data_feat, axis=1, keepdims=True)\n",
    "    #     plt.figure()\n",
    "    #     sns.heatmap(new_data_feat)\n",
    "\n",
    "    # get metadata\n",
    "    outcome = meta_df[meta_df[\"patient_id\"] == subject][\"outcome\"].values[0]\n",
    "    engel = meta_df[meta_df[\"patient_id\"] == subject][\"engel_score\"].values[0]\n",
    "    ilae = meta_df[meta_df[\"patient_id\"] == subject][\"ilae_score\"].values[0]\n",
    "\n",
    "    if outcome == \"NR\":\n",
    "        continue\n",
    "\n",
    "    X.append(new_data_feat)\n",
    "\n",
    "    y.append(outcome)\n",
    "    engels.append(engel)\n",
    "    ilaes.append(ilae)\n",
    "    subjects.append(subject)\n",
    "\n",
    "#     print(soz_quant_map.shape, nsoz_quant_map.shape)\n",
    "#     print(new_data_feat.shape)\n",
    "#     break"
   ]
  },
  {
   "cell_type": "code",
   "execution_count": 92,
   "metadata": {},
   "outputs": [],
   "source": [
    "from sklearn import preprocessing\n",
    "\n",
    "enc = preprocessing.OrdinalEncoder()"
   ]
  },
  {
   "cell_type": "code",
   "execution_count": 93,
   "metadata": {},
   "outputs": [
    {
     "name": "stdout",
     "output_type": "stream",
     "text": [
      "(71, 24)\n",
      "(71,)\n",
      "[0. 0. 0. 0. 1. 0. 0. 0. 0. 0. 1. 1. 1. 1. 1. 0. 0. 0. 0. 0. 0. 1. 1. 0.\n",
      " 0. 1. 1. 0. 1. 0. 0. 0. 0. 1. 0. 0. 0. 0. 1. 0. 0. 1. 0. 1. 0. 0. 1. 1.\n",
      " 1. 1. 0. 1. 0. 1. 1. 1. 0. 1. 1. 1. 1. 0. 0. 0. 0. 0. 1. 1. 0. 0. 1.]\n"
     ]
    }
   ],
   "source": [
    "X = np.array(X).squeeze()\n",
    "y = np.array(y).squeeze()\n",
    "\n",
    "y = enc.fit_transform(y[:, np.newaxis]).squeeze()\n",
    "print(X.shape)\n",
    "print(y.shape)\n",
    "print(y)"
   ]
  },
  {
   "cell_type": "markdown",
   "metadata": {},
   "source": [
    "# Run Classification Validation Pipeline"
   ]
  },
  {
   "cell_type": "code",
   "execution_count": 94,
   "metadata": {},
   "outputs": [],
   "source": [
    "n_features = X.shape[1]\n",
    "model_params = {\n",
    "    #     \"projection_matrix\": \"RerF\",\n",
    "    \"n_estimators\": 500,\n",
    "    \"max_features\": n_features,\n",
    "    \"n_jobs\": -1,\n",
    "    \"random_state\": random_state,\n",
    "}\n",
    "clf = rerfClassifier(**model_params)\n",
    "\n",
    "clf = ObliqueForestClassifier(**model_params)"
   ]
  },
  {
   "cell_type": "code",
   "execution_count": 95,
   "metadata": {},
   "outputs": [
    {
     "name": "stdout",
     "output_type": "stream",
     "text": [
      "Using estimator  ObliqueForestClassifier(max_features=24, n_estimators=500, n_jobs=-1,\n",
      "                        random_state=12345)\n"
     ]
    }
   ],
   "source": [
    "# perform CV using Sklearn\n",
    "scoring_funcs = {\n",
    "    \"roc_auc\": roc_auc_score,\n",
    "    \"accuracy\": accuracy_score,\n",
    "    \"balanced_accuracy\": balanced_accuracy_score,\n",
    "    \"average_precision\": average_precision_score,\n",
    "    \"precision\": \"\",\n",
    "    \"neg_brier_score\": brier_score_loss,\n",
    "    \"recall\": \"\",\n",
    "    \"f1\": \"\",\n",
    "}\n",
    "\n",
    "# run cross-validation\n",
    "scores = cross_validate(\n",
    "    clf,\n",
    "    X,\n",
    "    y,\n",
    "    #     groups=subject_groups,\n",
    "    cv=zip(train_index, test_index),\n",
    "    scoring=list(scoring_funcs.keys()),\n",
    "    return_estimator=True,\n",
    "    return_train_score=True,\n",
    "    n_jobs=1,\n",
    ")\n",
    "\n",
    "# get the estimators\n",
    "estimators = scores.pop(\"estimator\")\n",
    "\n",
    "print(\"Using estimator \", estimators[0])\n",
    "\n",
    "# initialize keys to list\n",
    "for key in [\n",
    "    \"test_fraction_pos\",\n",
    "    \"test_mean_pred_value\",\n",
    "    \"test_fpr\",\n",
    "    \"test_tpr\",\n",
    "    \"test_fnr\",\n",
    "    \"test_tnr\",\n",
    "    \"test_thresholds\",\n",
    "    \"train_subjects\",\n",
    "    \"test_subjects\",\n",
    "]:\n",
    "    scores[key] = []\n",
    "\n",
    "for idx, (train_inds, test_inds) in enumerate(zip(train_index, test_index)):\n",
    "    estimator = estimators[idx]\n",
    "    # evaluate on the test set\n",
    "    y_test = y[test_inds]\n",
    "    X_test = X[test_inds, :]\n",
    "    y_pred_prob = estimator.predict_proba(X_test)[:, 1]\n",
    "\n",
    "    # compute calibration curve\n",
    "    fraction_of_positives, mean_predicted_value = calibration_curve(\n",
    "        y_test, y_pred_prob, n_bins=10, strategy=\"quantile\"\n",
    "    )\n",
    "    scores[\"train_subjects\"].append(subject_groups[train_inds])\n",
    "    scores[\"test_subjects\"].append(subject_groups[test_inds])\n",
    "    scores[\"test_fraction_pos\"].append(list(fraction_of_positives))\n",
    "    scores[\"test_mean_pred_value\"].append(list(mean_predicted_value))\n",
    "\n",
    "    # store ROC curve metrics on the held-out test set\n",
    "    fpr, tpr, thresholds = roc_curve(y_test, y_pred_prob, pos_label=1)\n",
    "    fnr, tnr, neg_thresholds = roc_curve(y_test, y_pred_prob, pos_label=0)\n",
    "    scores[\"test_fpr\"] = list(fpr)\n",
    "    scores[\"test_tpr\"] = list(tpr)\n",
    "    scores[\"test_fnr\"] = list(fnr)\n",
    "    scores[\"test_tnr\"] = list(tnr)\n",
    "    scores[\"test_thresholds\"] = list(thresholds)"
   ]
  },
  {
   "cell_type": "code",
   "execution_count": 96,
   "metadata": {},
   "outputs": [],
   "source": [
    "fname = deriv_root / f\"cv{n_splits}_exp_{feature_name}.pkl\""
   ]
  },
  {
   "cell_type": "code",
   "execution_count": 97,
   "metadata": {},
   "outputs": [],
   "source": [
    "with open(fname, \"wb\") as file_name:\n",
    "    pickle.dump(scores, file_name)\n",
    "#     json.dump(scores, file_name)"
   ]
  },
  {
   "cell_type": "code",
   "execution_count": 98,
   "metadata": {},
   "outputs": [],
   "source": [
    "with open(fname, \"rb\") as file_name:\n",
    "    test_scores = pickle.load(file_name)"
   ]
  },
  {
   "cell_type": "code",
   "execution_count": 99,
   "metadata": {},
   "outputs": [
    {
     "ename": "UFuncTypeError",
     "evalue": "ufunc 'subtract' did not contain a loop with signature matching types (dtype('<U32'), dtype('<U32')) -> dtype('<U32')",
     "output_type": "error",
     "traceback": [
      "\u001b[0;31m---------------------------------------------------------------------------\u001b[0m",
      "\u001b[0;31mUFuncTypeError\u001b[0m                            Traceback (most recent call last)",
      "\u001b[0;32m<ipython-input-99-98ae0b48a210>\u001b[0m in \u001b[0;36m<module>\u001b[0;34m\u001b[0m\n\u001b[1;32m      2\u001b[0m \u001b[0;34m\u001b[0m\u001b[0m\n\u001b[1;32m      3\u001b[0m \u001b[0;32mfor\u001b[0m \u001b[0mkey\u001b[0m\u001b[0;34m,\u001b[0m \u001b[0mval\u001b[0m \u001b[0;32min\u001b[0m \u001b[0mscores\u001b[0m\u001b[0;34m.\u001b[0m\u001b[0mitems\u001b[0m\u001b[0;34m(\u001b[0m\u001b[0;34m)\u001b[0m\u001b[0;34m:\u001b[0m\u001b[0;34m\u001b[0m\u001b[0;34m\u001b[0m\u001b[0m\n\u001b[0;32m----> 4\u001b[0;31m     \u001b[0massert_array_almost_equal\u001b[0m\u001b[0;34m(\u001b[0m\u001b[0mval\u001b[0m\u001b[0;34m,\u001b[0m \u001b[0mtest_scores\u001b[0m\u001b[0;34m[\u001b[0m\u001b[0mkey\u001b[0m\u001b[0;34m]\u001b[0m\u001b[0;34m)\u001b[0m\u001b[0;34m\u001b[0m\u001b[0;34m\u001b[0m\u001b[0m\n\u001b[0m",
      "    \u001b[0;31m[... skipping hidden 2 frame]\u001b[0m\n",
      "\u001b[0;32m~/Documents/morf-demo/.venv/lib/python3.8/site-packages/numpy/testing/_private/utils.py\u001b[0m in \u001b[0;36mcompare\u001b[0;34m(x, y)\u001b[0m\n\u001b[1;32m   1035\u001b[0m         \u001b[0mdtype\u001b[0m \u001b[0;34m=\u001b[0m \u001b[0mresult_type\u001b[0m\u001b[0;34m(\u001b[0m\u001b[0my\u001b[0m\u001b[0;34m,\u001b[0m \u001b[0;36m1.\u001b[0m\u001b[0;34m)\u001b[0m\u001b[0;34m\u001b[0m\u001b[0;34m\u001b[0m\u001b[0m\n\u001b[1;32m   1036\u001b[0m         \u001b[0my\u001b[0m \u001b[0;34m=\u001b[0m \u001b[0marray\u001b[0m\u001b[0;34m(\u001b[0m\u001b[0my\u001b[0m\u001b[0;34m,\u001b[0m \u001b[0mdtype\u001b[0m\u001b[0;34m=\u001b[0m\u001b[0mdtype\u001b[0m\u001b[0;34m,\u001b[0m \u001b[0mcopy\u001b[0m\u001b[0;34m=\u001b[0m\u001b[0;32mFalse\u001b[0m\u001b[0;34m,\u001b[0m \u001b[0msubok\u001b[0m\u001b[0;34m=\u001b[0m\u001b[0;32mTrue\u001b[0m\u001b[0;34m)\u001b[0m\u001b[0;34m\u001b[0m\u001b[0;34m\u001b[0m\u001b[0m\n\u001b[0;32m-> 1037\u001b[0;31m         \u001b[0mz\u001b[0m \u001b[0;34m=\u001b[0m \u001b[0mabs\u001b[0m\u001b[0;34m(\u001b[0m\u001b[0mx\u001b[0m \u001b[0;34m-\u001b[0m \u001b[0my\u001b[0m\u001b[0;34m)\u001b[0m\u001b[0;34m\u001b[0m\u001b[0;34m\u001b[0m\u001b[0m\n\u001b[0m\u001b[1;32m   1038\u001b[0m \u001b[0;34m\u001b[0m\u001b[0m\n\u001b[1;32m   1039\u001b[0m         \u001b[0;32mif\u001b[0m \u001b[0;32mnot\u001b[0m \u001b[0missubdtype\u001b[0m\u001b[0;34m(\u001b[0m\u001b[0mz\u001b[0m\u001b[0;34m.\u001b[0m\u001b[0mdtype\u001b[0m\u001b[0;34m,\u001b[0m \u001b[0mnumber\u001b[0m\u001b[0;34m)\u001b[0m\u001b[0;34m:\u001b[0m\u001b[0;34m\u001b[0m\u001b[0;34m\u001b[0m\u001b[0m\n",
      "\u001b[0;31mUFuncTypeError\u001b[0m: ufunc 'subtract' did not contain a loop with signature matching types (dtype('<U32'), dtype('<U32')) -> dtype('<U32')"
     ]
    }
   ],
   "source": [
    "from numpy.testing import assert_array_almost_equal\n",
    "\n",
    "for key, val in scores.items():\n",
    "    assert_array_almost_equal(val, test_scores[key])"
   ]
  },
  {
   "cell_type": "code",
   "execution_count": null,
   "metadata": {},
   "outputs": [],
   "source": []
  }
 ],
 "metadata": {
  "kernelspec": {
   "display_name": "morfdemo",
   "language": "python",
   "name": "morfdemo"
  },
  "language_info": {
   "codemirror_mode": {
    "name": "ipython",
    "version": 3
   },
   "file_extension": ".py",
   "mimetype": "text/x-python",
   "name": "python",
   "nbconvert_exporter": "python",
   "pygments_lexer": "ipython3",
   "version": "3.8.3"
  }
 },
 "nbformat": 4,
 "nbformat_minor": 5
}
