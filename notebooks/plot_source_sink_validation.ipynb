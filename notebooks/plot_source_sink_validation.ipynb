{
 "cells": [
  {
   "cell_type": "markdown",
   "id": "f0a53f78-6ab0-47f7-adbb-46ffdeaa790d",
   "metadata": {},
   "source": [
    "# Plotting Interictal (Source Sink, Fragility Cross Validation Experiment"
   ]
  },
  {
   "cell_type": "code",
   "execution_count": 1,
   "id": "68c12f0a-a6d9-4e54-8e6d-76e48ec80754",
   "metadata": {},
   "outputs": [],
   "source": [
    "%load_ext lab_black"
   ]
  },
  {
   "cell_type": "code",
   "execution_count": 2,
   "id": "35fa0579-2ede-4e2e-b158-e4ab3677a93a",
   "metadata": {},
   "outputs": [
    {
     "name": "stderr",
     "output_type": "stream",
     "text": [
      "/Users/adam2392/miniforge3/envs/eztrack/lib/python3.8/site-packages/outdated/utils.py:14: OutdatedPackageWarning: The package pingouin is out of date. Your version is 0.4.0, the latest is 0.5.0.\n",
      "Set the environment variable OUTDATED_IGNORE=1 to disable these warnings.\n",
      "  return warn(\n"
     ]
    }
   ],
   "source": [
    "import numpy as np\n",
    "import scipy\n",
    "import scipy.io\n",
    "import pandas as pd\n",
    "from pathlib import Path\n",
    "import os\n",
    "import collections\n",
    "from natsort import natsorted\n",
    "import json\n",
    "import pickle\n",
    "\n",
    "from mne_bids import BIDSPath, get_entities_from_fname, get_entity_vals\n",
    "import pingouin as pg\n",
    "\n",
    "from sklearn.metrics import auc\n",
    "\n",
    "import matplotlib as mpl\n",
    "import matplotlib.pyplot as plt\n",
    "import seaborn as sns\n",
    "import dabest"
   ]
  },
  {
   "cell_type": "markdown",
   "id": "dd0ff479-b0a7-4f06-a1d4-38844e105e26",
   "metadata": {},
   "source": [
    "# Load Data"
   ]
  },
  {
   "cell_type": "code",
   "execution_count": 3,
   "id": "0fd08287-1eef-4b89-965e-97f166c3140f",
   "metadata": {},
   "outputs": [],
   "source": [
    "root = Path(\"/Users/adam2392/OneDrive - Johns Hopkins/epilepsy_interictal\")\n",
    "# root = Path(\"/home/adam2392/hdd/Dropbox/epilepsy_interictal\")\n",
    "deriv_root = root / \"derivatives\"\n",
    "source_root = root / \"sourcedata\"\n",
    "\n",
    "session = \"presurgery\"\n",
    "task = \"interictal\"\n",
    "acquisition = \"seeg\"  # note not all subjects are actually sEEG\n",
    "\n",
    "reference = \"car\"\n",
    "deriv_chain = Path(\"sourcesink\") / reference / \"remove_artifact_wins\"\n",
    "deriv_chain = Path(\"originalsampling\") / \"fragility\" / \"monopolar\"\n",
    "\n",
    "deriv_path = deriv_root / deriv_chain"
   ]
  },
  {
   "cell_type": "code",
   "execution_count": 4,
   "id": "84c99571-eafd-436a-80f8-eb10d7e01ccc",
   "metadata": {},
   "outputs": [],
   "source": [
    "meta_fpath = source_root / \"ieeg_database_all.xlsx\""
   ]
  },
  {
   "cell_type": "code",
   "execution_count": 5,
   "id": "77d5f352-f408-46a6-860a-1fba17f4bdd3",
   "metadata": {},
   "outputs": [
    {
     "name": "stdout",
     "output_type": "stream",
     "text": [
      "['NIH1', 'NIH2', 'NIH3', 'NIH4', 'NIH5', 'NIH6', 'NIH7', 'NIH8', 'NIH9', 'NIH10', 'NIH11', 'PY18N002', 'PY18N007', 'PY18N013', 'PY18N015', 'PY19N012', 'PY19N015', 'PY19N023', 'PY19N026', 'jh103', 'jh105', 'kumc1', 'kumc2', 'kumc3', 'kumc4', 'kumc5', 'kumc6', 'kumc7', 'kumc8', 'kumc9', 'kumc10', 'kumc11', 'kumc12', 'kumc13', 'la01', 'la02', 'la03', 'la04', 'la05', 'la06', 'la07', 'la08', 'la09', 'la10', 'la11', 'la13', 'la15', 'la16', 'la21', 'la22', 'la23', 'la24', 'nl01', 'nl02', 'nl03', 'nl04', 'nl05', 'nl06', 'nl07', 'nl08', 'nl11', 'nl12', 'nl13', 'nl14', 'nl15', 'nl16', 'nl18', 'nl19', 'nl20', 'pt1', 'pt2', 'pt3', 'rns002', 'rns003', 'rns004', 'rns005', 'rns006', 'rns009', 'rns011', 'rns013', 'rns014', 'rns015', 'tvb1', 'tvb2', 'tvb7', 'tvb8', 'tvb12', 'tvb14', 'tvb17', 'tvb18', 'tvb19', 'tvb23', 'tvb27', 'tvb28', 'tvb29', 'umf001', 'umf002', 'umf003', 'umf004', 'umf005', 'upmc1', 'upmc2', 'upmc3', 'upmc4', 'upmc5', 'upmc6']\n"
     ]
    }
   ],
   "source": [
    "subjects = natsorted(get_entity_vals(deriv_path, \"subject\"))\n",
    "print(subjects)"
   ]
  },
  {
   "cell_type": "markdown",
   "id": "36bfe5a7-6416-4e1c-819f-c31436801384",
   "metadata": {},
   "source": [
    "## Load Source-Sink/Fragility Data"
   ]
  },
  {
   "cell_type": "code",
   "execution_count": 12,
   "id": "d9c22e52-15bb-42dd-8493-73bde84c89fe",
   "metadata": {},
   "outputs": [],
   "source": [
    "n_splits = 10\n",
    "\n",
    "clf_name = \"sporf\"\n",
    "# n_features = X.shape[1]\n",
    "n_features = 18\n",
    "n_estimators = (2000,)\n",
    "max_features = n_features * 2\n",
    "\n",
    "# other options:\n",
    "# source_infl\n",
    "# sink_ind\n",
    "# sink_conn\n",
    "feature_name = \"source_infl\"\n",
    "feature_name = \"frag_mat\""
   ]
  },
  {
   "cell_type": "code",
   "execution_count": 15,
   "id": "06b2d027-79e5-47dc-803c-c9babe60a8d7",
   "metadata": {},
   "outputs": [
    {
     "name": "stdout",
     "output_type": "stream",
     "text": [
      "/Users/adam2392/OneDrive - Johns Hopkins/epilepsy_interictal/derivatives/cv10_exp_frag_mat.json\n"
     ]
    }
   ],
   "source": [
    "fname = deriv_root / f\"cv{n_splits}_exp_{feature_name}.json\"\n",
    "print(fname)"
   ]
  },
  {
   "cell_type": "code",
   "execution_count": 16,
   "id": "69f314de-f90d-4668-8537-aa2bf5393adc",
   "metadata": {},
   "outputs": [],
   "source": [
    "with open(fname.with_suffix(\".json\"), \"r\") as fp:\n",
    "    feature_scores = json.load(fp)"
   ]
  },
  {
   "cell_type": "markdown",
   "id": "6e57f91e-1aae-49d8-a93a-9f59e51eb925",
   "metadata": {},
   "source": [
    "## Load HFO Data"
   ]
  },
  {
   "cell_type": "code",
   "execution_count": 12,
   "id": "795a9b13-a5e7-498f-b002-985fd6ed58e0",
   "metadata": {},
   "outputs": [],
   "source": [
    "max_features = 10"
   ]
  },
  {
   "cell_type": "code",
   "execution_count": 13,
   "id": "52471694-13c7-486c-aafe-206d896ab90a",
   "metadata": {},
   "outputs": [
    {
     "name": "stdout",
     "output_type": "stream",
     "text": [
      "/Users/adam2392/OneDrive - Johns Hopkins/epilepsy_interictal/derivatives/cv10_sporf_mtry10_exp_hforates_meandiff.pkl\n"
     ]
    }
   ],
   "source": [
    "fname = (\n",
    "    deriv_root\n",
    "    / f\"cv{n_splits}_{clf_name}_mtry{max_features}_exp_hforates_meandiff.pkl\"\n",
    ")\n",
    "print(fname)"
   ]
  },
  {
   "cell_type": "code",
   "execution_count": 14,
   "id": "6fa342e3-7098-4ef3-8ef7-c3f247873537",
   "metadata": {},
   "outputs": [],
   "source": [
    "with open(fname.with_suffix(\".json\"), \"r\") as fp:\n",
    "    hfo_scores = json.load(fp)"
   ]
  },
  {
   "cell_type": "markdown",
   "id": "d645beb7-e2b7-419e-8b03-8853de3a8f7f",
   "metadata": {
    "tags": []
   },
   "source": [
    "# Make Plots of the Data"
   ]
  },
  {
   "cell_type": "code",
   "execution_count": 18,
   "id": "99b8d2e5-e25f-419b-82db-f460a7337e22",
   "metadata": {},
   "outputs": [],
   "source": [
    "scores = feature_scores"
   ]
  },
  {
   "cell_type": "code",
   "execution_count": 19,
   "id": "966565e5-ad45-48ac-8a20-721c0fb1893c",
   "metadata": {},
   "outputs": [],
   "source": [
    "which_set = \"test\"\n",
    "\n",
    "tprs = []\n",
    "aucs = scores[f\"{which_set}_roc_auc\"]\n",
    "mean_fpr = np.linspace(0, 1, 100)\n",
    "\n",
    "for idx in range(n_splits):\n",
    "    fpr = scores[f\"{which_set}_fpr\"][idx]\n",
    "    tpr = scores[f\"{which_set}_tpr\"][idx]\n",
    "\n",
    "    # interpolate the tpr\n",
    "    interp_tpr = np.interp(mean_fpr, fpr, tpr)\n",
    "    interp_tpr[0] = 0.0\n",
    "    tprs.append(interp_tpr)\n",
    "\n",
    "mean_tpr = np.mean(tprs, axis=0)\n",
    "mean_tpr[-1] = 1.0\n",
    "mean_auc = auc(mean_fpr, mean_tpr)\n",
    "mean_auc = np.mean(aucs)\n",
    "std_auc = np.std(aucs)\n",
    "\n",
    "std_tpr = np.std(tprs, axis=0)\n",
    "tprs_upper = np.minimum(mean_tpr + std_tpr, 1)\n",
    "tprs_lower = np.maximum(mean_tpr - std_tpr, 0)"
   ]
  },
  {
   "cell_type": "markdown",
   "id": "265c1fe5-74cc-4a4f-ba6b-df5c2b037e46",
   "metadata": {},
   "source": [
    "## Print out Summary Statistics"
   ]
  },
  {
   "cell_type": "code",
   "execution_count": 20,
   "id": "40419365-471e-47c6-ae3c-c150f97cbe05",
   "metadata": {},
   "outputs": [
    {
     "name": "stdout",
     "output_type": "stream",
     "text": [
      "0.6274305555555555 0.06600967504142158\n"
     ]
    }
   ],
   "source": [
    "print(np.mean(aucs), np.std(aucs))"
   ]
  },
  {
   "cell_type": "code",
   "execution_count": 21,
   "id": "15e53d8f-86a0-432e-a679-cf6a52e31e86",
   "metadata": {},
   "outputs": [
    {
     "name": "stdout",
     "output_type": "stream",
     "text": [
      "0.5729166666666667 +/- 0.07430880055219687\n"
     ]
    }
   ],
   "source": [
    "metric = \"test_balanced_accuracy\"\n",
    "print(np.mean(scores[metric]), \"+/-\", np.std(scores[metric]))"
   ]
  },
  {
   "cell_type": "markdown",
   "id": "efc0b203-7069-4737-a3ae-37c8b499a8a4",
   "metadata": {},
   "source": [
    "## Making ROC Curve With Confidence Interval"
   ]
  },
  {
   "cell_type": "code",
   "execution_count": 23,
   "id": "600bf532-1a11-4b19-b0bb-a7507c203b61",
   "metadata": {},
   "outputs": [
    {
     "data": {
      "image/png": "[encoded data removed]",
      "text/plain": [
       "<Figure size 432x288 with 1 Axes>"
      ]
     },
     "metadata": {
      "needs_background": "light"
     },
     "output_type": "display_data"
    }
   ],
   "source": [
    "fig, ax = plt.subplots()\n",
    "\n",
    "for idx in range(n_splits):\n",
    "    fpr = scores[f\"{which_set}_fpr\"][idx]\n",
    "    tpr = scores[f\"{which_set}_tpr\"][idx]\n",
    "\n",
    "    ax.plot(fpr, tpr, color=\"b\", lw=2, alpha=0.5)\n",
    "\n",
    "ax.plot([0, 1], [0, 1], linestyle=\"--\", lw=2, color=\"r\", label=\"Chance\", alpha=0.8)\n",
    "ax.plot(\n",
    "    mean_fpr,\n",
    "    mean_tpr,\n",
    "    color=\"b\",\n",
    "    label=r\"Mean ROC (AUC = %0.2f $\\pm$ %0.2f)\" % (mean_auc, std_auc),\n",
    "    lw=2,\n",
    "    alpha=0.8,\n",
    ")\n",
    "\n",
    "\n",
    "ax.fill_between(\n",
    "    mean_fpr,\n",
    "    tprs_lower,\n",
    "    tprs_upper,\n",
    "    color=\"grey\",\n",
    "    alpha=0.2,\n",
    "    label=r\"$\\pm$ 1 std. dev.\",\n",
    ")\n",
    "ax.set(\n",
    "    xlim=[-0.05, 1.05],\n",
    "    ylim=[-0.05, 1.05],\n",
    "    title=f\"Receiver operating characteristic curve {which_set}\",\n",
    ")\n",
    "ax.legend(loc=\"lower right\")\n",
    "plt.show()"
   ]
  },
  {
   "cell_type": "markdown",
   "id": "6b237a4b-6527-4ea2-b3f8-25c7dc28f34a",
   "metadata": {},
   "source": [
    "## Plotting Predicted Probability of Success Scores"
   ]
  },
  {
   "cell_type": "code",
   "execution_count": 105,
   "id": "4d558719-2e91-4f0e-ac6d-9abf710c5090",
   "metadata": {},
   "outputs": [],
   "source": [
    "y_probas = []\n",
    "subj_list = []\n",
    "outcomes = []\n",
    "centers = []\n",
    "folds = []\n",
    "\n",
    "for idx in range(n_splits):\n",
    "    y_pred_proba = scores[f\"{which_set}_y_pred_proba\"][idx]\n",
    "    subjects = scores[f\"{which_set}_subjects\"][idx]\n",
    "    for subject in subjects:\n",
    "        outcome = meta_df[meta_df[\"patient_id\"] == subject][\"outcome\"].values[0]\n",
    "        outcomes.append(outcome)\n",
    "\n",
    "        center = meta_df[meta_df[\"patient_id\"] == subject][\"clinical_center\"].values[0]\n",
    "        centers.append(center)\n",
    "\n",
    "    y_probas.extend(y_pred_proba)\n",
    "    subj_list.extend(subjects)\n",
    "    folds.extend([idx] * len(subjects))"
   ]
  },
  {
   "cell_type": "code",
   "execution_count": 106,
   "id": "315c5021-409c-4bed-8375-d8a2812ab315",
   "metadata": {},
   "outputs": [
    {
     "data": {
      "text/html": [
       "<div>\n",
       "<style scoped>\n",
       "    .dataframe tbody tr th:only-of-type {\n",
       "        vertical-align: middle;\n",
       "    }\n",
       "\n",
       "    .dataframe tbody tr th {\n",
       "        vertical-align: top;\n",
       "    }\n",
       "\n",
       "    .dataframe thead th {\n",
       "        text-align: right;\n",
       "    }\n",
       "</style>\n",
       "<table border=\"1\" class=\"dataframe\">\n",
       "  <thead>\n",
       "    <tr style=\"text-align: right;\">\n",
       "      <th></th>\n",
       "      <th>y_proba</th>\n",
       "      <th>subject</th>\n",
       "      <th>outcome</th>\n",
       "      <th>center</th>\n",
       "      <th>fold</th>\n",
       "    </tr>\n",
       "  </thead>\n",
       "  <tbody>\n",
       "    <tr>\n",
       "      <th>0</th>\n",
       "      <td>0.51305</td>\n",
       "      <td>PY19N023</td>\n",
       "      <td>S</td>\n",
       "      <td>jhu</td>\n",
       "      <td>0</td>\n",
       "    </tr>\n",
       "    <tr>\n",
       "      <th>1</th>\n",
       "      <td>0.253017</td>\n",
       "      <td>la16</td>\n",
       "      <td>F</td>\n",
       "      <td>cc</td>\n",
       "      <td>0</td>\n",
       "    </tr>\n",
       "    <tr>\n",
       "      <th>2</th>\n",
       "      <td>0.202783</td>\n",
       "      <td>015</td>\n",
       "      <td>F</td>\n",
       "      <td>miami</td>\n",
       "      <td>0</td>\n",
       "    </tr>\n",
       "    <tr>\n",
       "      <th>3</th>\n",
       "      <td>0.554383</td>\n",
       "      <td>upmc3</td>\n",
       "      <td>F</td>\n",
       "      <td>upmc</td>\n",
       "      <td>0</td>\n",
       "    </tr>\n",
       "    <tr>\n",
       "      <th>4</th>\n",
       "      <td>0.38185</td>\n",
       "      <td>la21</td>\n",
       "      <td>S</td>\n",
       "      <td>cc</td>\n",
       "      <td>0</td>\n",
       "    </tr>\n",
       "  </tbody>\n",
       "</table>\n",
       "</div>"
      ],
      "text/plain": [
       "    y_proba   subject outcome center fold\n",
       "0   0.51305  PY19N023       S    jhu    0\n",
       "1  0.253017      la16       F     cc    0\n",
       "2  0.202783       015       F  miami    0\n",
       "3  0.554383     upmc3       F   upmc    0\n",
       "4   0.38185      la21       S     cc    0"
      ]
     },
     "metadata": {},
     "output_type": "display_data"
    }
   ],
   "source": [
    "proba_df = pd.DataFrame((y_probas, subj_list, outcomes, centers, folds)).T\n",
    "proba_df.columns = [\"y_proba\", \"subject\", \"outcome\", \"center\", \"fold\"]\n",
    "\n",
    "display(proba_df.head())"
   ]
  },
  {
   "cell_type": "code",
   "execution_count": 103,
   "id": "b15e2fe0-7dbc-4298-99b5-6a1d3a8e1a1f",
   "metadata": {},
   "outputs": [
    {
     "data": {
      "text/plain": [
       "<AxesSubplot:xlabel='outcome', ylabel='y_proba'>"
      ]
     },
     "execution_count": 103,
     "metadata": {},
     "output_type": "execute_result"
    },
    {
     "data": {
      "image/png": "[encoded data removed]",
      "text/plain": [
       "<Figure size 432x288 with 1 Axes>"
      ]
     },
     "metadata": {
      "needs_background": "light"
     },
     "output_type": "display_data"
    }
   ],
   "source": [
    "fig, ax = plt.subplots()\n",
    "# sns.stripplot(x=\"outcome\", y=\"y_proba\", hue=\"center\", data=proba_df, ax=ax)\n",
    "sns.boxplot(x=\"outcome\", y=\"y_proba\", data=proba_df, ax=ax)\n",
    "sns.swarmplot(x=\"outcome\", y=\"y_proba\", hue=\"center\", data=proba_df, ax=ax)"
   ]
  },
  {
   "cell_type": "code",
   "execution_count": 110,
   "id": "f9f0852e-7587-491a-8be6-9297098557b6",
   "metadata": {},
   "outputs": [
    {
     "data": {
      "text/plain": [
       "<AxesSubplot:xlabel='outcome', ylabel='y_proba'>"
      ]
     },
     "execution_count": 110,
     "metadata": {},
     "output_type": "execute_result"
    },
    {
     "data": {
      "image/png": "[encoded data removed]",
      "text/plain": [
       "<Figure size 504x360 with 1 Axes>"
      ]
     },
     "metadata": {
      "needs_background": "light"
     },
     "output_type": "display_data"
    }
   ],
   "source": [
    "fig, ax = plt.subplots(figsize=(7, 5))\n",
    "# sns.stripplot(x=\"outcome\", y=\"y_proba\", hue=\"center\", data=proba_df, ax=ax)\n",
    "sns.boxplot(x=\"outcome\", y=\"y_proba\", hue=\"fold\", data=proba_df, ax=ax)"
   ]
  },
  {
   "cell_type": "markdown",
   "id": "7491bcf3-28e0-4d3e-8175-e5b99848e50c",
   "metadata": {},
   "source": [
    "## Plotting Calibration Curve"
   ]
  },
  {
   "cell_type": "code",
   "execution_count": 78,
   "id": "d85386e7-cecd-46c5-8d87-9a325068763f",
   "metadata": {},
   "outputs": [],
   "source": [
    "mean_brier = np.mean(scores[\"test_neg_brier_score\"])\n",
    "std_brier = np.std(scores[\"test_neg_brier_score\"])"
   ]
  },
  {
   "cell_type": "code",
   "execution_count": 82,
   "id": "ba1e2321-9db9-4260-8694-cc8411f507ab",
   "metadata": {},
   "outputs": [
    {
     "data": {
      "image/png": "[encoded data removed]",
      "text/plain": [
       "<Figure size 432x288 with 1 Axes>"
      ]
     },
     "metadata": {
      "needs_background": "light"
     },
     "output_type": "display_data"
    }
   ],
   "source": [
    "frac_pred_vals = []\n",
    "mean_pred_values = np.linspace(0, 1.0, 200)\n",
    "\n",
    "fig, ax = plt.subplots()\n",
    "color = \"blue\"\n",
    "for idx in range(n_splits):\n",
    "    y_pred_proba = scores[f\"{which_set}_y_pred_proba\"][idx]\n",
    "\n",
    "    mean_predicted_value = scores[f\"{which_set}_mean_pred_value\"][idx]\n",
    "    fraction_of_positives = scores[f\"{which_set}_fraction_pos\"][idx]\n",
    "\n",
    "    # create a linear interpolation of the calibration\n",
    "    interp_frac_positives = np.interp(\n",
    "        mean_pred_values, mean_predicted_value, fraction_of_positives\n",
    "    )\n",
    "\n",
    "    # store curves\n",
    "    frac_pred_vals.append(interp_frac_positives)\n",
    "#     ax.plot(mean_pred_values, interp_frac_positives, \"s-\", alpha=0.5)\n",
    "\n",
    "# get the mean calibration curve\n",
    "mean_frac_pred_values = np.mean(frac_pred_vals, axis=0)\n",
    "ax.plot(\n",
    "    mean_pred_values,\n",
    "    mean_frac_pred_values,\n",
    "    \"s-\",\n",
    "    label=rf\"({np.round(mean_brier,3)} $\\pm$ {np.round(std_brier, 3)}\",\n",
    ")\n",
    "\n",
    "# get upper and lower bound for tpr\n",
    "std_fpv = np.std(frac_pred_vals, axis=0)\n",
    "tprs_upper = np.minimum(mean_frac_pred_values + std_fpv, 1)\n",
    "tprs_lower = np.maximum(mean_frac_pred_values - std_fpv, 0)\n",
    "ax.fill_between(\n",
    "    mean_pred_values,\n",
    "    tprs_lower,\n",
    "    tprs_upper,\n",
    "    color=color,\n",
    "    alpha=0.2,\n",
    "    # label=r\"$\\pm$ 1 std. dev.\",\n",
    ")\n",
    "ax.plot([0, 1], [0, 1], \"k:\", label=\"Perfectly calibrated\")\n",
    "\n",
    "\n",
    "ax.set(\n",
    "    ylabel=\"Fraction of Success Outcomes\",\n",
    "    ylim=[-0.05, 1.05],\n",
    "    xlabel=\"Mean Predicted Success Probabilities of Subjects\",\n",
    "    title=\"Calibration (Reliability) Curve\",\n",
    ")\n",
    "\n",
    "ax.legend(loc=\"lower right\")\n",
    "plt.show()"
   ]
  }
 ],
 "metadata": {
  "kernelspec": {
   "display_name": "eztrack",
   "language": "python",
   "name": "eztrack"
  },
  "language_info": {
   "codemirror_mode": {
    "name": "ipython",
    "version": 3
   },
   "file_extension": ".py",
   "mimetype": "text/x-python",
   "name": "python",
   "nbconvert_exporter": "python",
   "pygments_lexer": "ipython3",
   "version": "3.8.10"
  }
 },
 "nbformat": 4,
 "nbformat_minor": 5
}
