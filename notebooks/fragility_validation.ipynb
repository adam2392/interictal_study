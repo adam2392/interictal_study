{
 "cells": [
  {
   "cell_type": "markdown",
   "id": "5c2197de-47df-49bd-a7d3-0b29c5020507",
   "metadata": {
    "tags": []
   },
   "source": [
    "# Fragility Algorithm - Cross Validation Study with Interictal Data\n",
    "\n",
    "Here, we are interested in looking at how neural fragility can be used as a feature representation to assist in interpreting EEG data for the purposes of i) interictal SOZ localization and ii) interictal prediction of outcome.\n",
    "\n",
    "Now, the reader is reminded that the true EZ is never observed in data. Therefore the clinical SOZ is only a heuristic estimate based on current clinical knowledge. Outcomes however, are observed (albeit outcome measures are somewhat subjective). \n",
    "\n",
    "Here, we pose the problem: Can a classification model predict surgical outcome conditioned on the clinical SOZ?\n",
    "\n",
    "If you have a feature representation that you hypothesize correlates with the true EZ, then you would expect the classification model to be able to predict outcome well.\n",
    "\n",
    "Under this framework, if it predicts success, then it implies the clinical SOZ correlates with your feature representation."
   ]
  },
  {
   "cell_type": "code",
   "execution_count": 1,
   "id": "991e14f8-3cbe-4930-8d0a-afcdb3139047",
   "metadata": {},
   "outputs": [],
   "source": [
    "%load_ext lab_black"
   ]
  },
  {
   "cell_type": "code",
   "execution_count": 2,
   "id": "5b5ea082-63a7-4207-ab98-d3dab5ec85fb",
   "metadata": {},
   "outputs": [],
   "source": [
    "import numpy as np\n",
    "import scipy\n",
    "import scipy.io\n",
    "import pandas as pd\n",
    "from pathlib import Path\n",
    "import os\n",
    "import collections\n",
    "from natsort import natsorted\n",
    "import json\n",
    "import pickle\n",
    "\n",
    "from sklearn.preprocessing import OrdinalEncoder\n",
    "from sklearn.dummy import DummyClassifier\n",
    "from sklearn.ensemble import RandomForestClassifier\n",
    "from sklearn.linear_model import LogisticRegression\n",
    "from sklearn.calibration import calibration_curve\n",
    "from sklearn.metrics import (\n",
    "    brier_score_loss,\n",
    "    roc_curve,\n",
    "    average_precision_score,\n",
    "    roc_auc_score,\n",
    "    f1_score,\n",
    "    balanced_accuracy_score,\n",
    "    accuracy_score,\n",
    "    auc,\n",
    "    plot_precision_recall_curve,\n",
    "    average_precision_score,\n",
    "    precision_recall_curve,\n",
    "    confusion_matrix,\n",
    ")\n",
    "from sklearn.inspection import permutation_importance\n",
    "from sklearn.model_selection import (\n",
    "    GroupKFold,\n",
    "    GroupShuffleSplit,\n",
    "    StratifiedShuffleSplit,\n",
    "    ShuffleSplit,\n",
    "    cross_validate,\n",
    ")\n",
    "from sklearn.utils import resample\n",
    "\n",
    "from mne_bids import BIDSPath, get_entities_from_fname, get_entity_vals\n",
    "\n",
    "from eztrack import read_clinical_excel\n",
    "from eztrack.io import read_derivative_npy\n",
    "\n",
    "# from rerf.rerfClassifier import rerfClassifier\n",
    "from oblique_forests.sporf import ObliqueForestClassifier\n",
    "\n",
    "import matplotlib as mpl\n",
    "import matplotlib.pyplot as plt\n",
    "import seaborn as sns\n",
    "\n",
    "%matplotlib inline\n",
    "%load_ext autoreload\n",
    "%autoreload 2"
   ]
  },
  {
   "cell_type": "code",
   "execution_count": 3,
   "id": "d53d76ef-695d-4515-845a-6e38f012877b",
   "metadata": {},
   "outputs": [],
   "source": [
    "class NumpyEncoder(json.JSONEncoder):\n",
    "    \"\"\"Special json encoder for numpy types.\n",
    "\n",
    "    Pass to json.dump(), or json.load().\n",
    "    \"\"\"\n",
    "\n",
    "    def default(self, obj):  # noqa\n",
    "        if isinstance(\n",
    "            obj,\n",
    "            (\n",
    "                np.int_,\n",
    "                np.intc,\n",
    "                np.intp,\n",
    "                np.int8,\n",
    "                np.int16,\n",
    "                np.int32,\n",
    "                np.int64,\n",
    "                np.uint8,\n",
    "                np.uint16,\n",
    "                np.uint32,\n",
    "                np.uint64,\n",
    "            ),\n",
    "        ):\n",
    "            return int(obj)\n",
    "        elif isinstance(obj, (np.float_, np.float16, np.float32, np.float64)):\n",
    "            return float(obj)\n",
    "        elif isinstance(obj, (np.ndarray,)):  # This is the fix\n",
    "            return obj.tolist()\n",
    "        elif isinstance(obj, (datetime, date)):\n",
    "            return obj.isoformat()\n",
    "        return json.JSONEncoder.default(self, obj)"
   ]
  },
  {
   "cell_type": "code",
   "execution_count": 4,
   "id": "5a5515b7-a2d9-4388-9fa7-e6898d6dedad",
   "metadata": {},
   "outputs": [],
   "source": [
    "from sklearn import preprocessing\n",
    "\n",
    "enc = preprocessing.OrdinalEncoder()"
   ]
  },
  {
   "cell_type": "markdown",
   "id": "c4ca894b-59f7-4d77-be4c-c460d887c48d",
   "metadata": {
    "tags": []
   },
   "source": [
    "# Define Functions to Get XY data"
   ]
  },
  {
   "cell_type": "code",
   "execution_count": 6,
   "id": "d9700d23-2476-4495-837b-ab45d6c32966",
   "metadata": {},
   "outputs": [],
   "source": [
    "def get_Xy_vector(dataset, feature_set, threshold):\n",
    "    # create X, y pair for training\n",
    "    X = []\n",
    "    y = []\n",
    "    engels = []\n",
    "    ilaes = []\n",
    "    subjects = []\n",
    "\n",
    "    for idx, subject in enumerate(dataset[\"subject\"]):\n",
    "        #         if subject.startswith(\"pt\"):\n",
    "        #             subject = \"kumc\" + subject.split(\"pt\")[1]\n",
    "        #         elif subject.isnumeric():\n",
    "        #             subject = \"rns\" + subject\n",
    "\n",
    "        # get the metadata\n",
    "        soz_chs = dataset[\"soz_chs\"][idx]\n",
    "        ch_names = dataset[\"ch_names\"][idx]\n",
    "        soz_inds = [idx for idx, ch in enumerate(ch_names) if ch in soz_chs]\n",
    "        nsoz_inds = [idx for idx in range(len(ch_names)) if idx not in soz_inds]\n",
    "\n",
    "        # compute quantiles in each\n",
    "        qtiles = np.linspace(0.1, 1.0, 3)\n",
    "\n",
    "        X_buff = []\n",
    "        for feature_name in feature_set:\n",
    "            # get the data\n",
    "            feature_map = dataset[feature_name][idx].copy()\n",
    "\n",
    "            # set threshold\n",
    "            if threshold is not None:\n",
    "                feature_map[feature_map < threshold] = 0.0\n",
    "\n",
    "            # stratify data into two sets of signals\n",
    "            soz_feat = feature_map[soz_inds]\n",
    "            nsoz_feat = feature_map[nsoz_inds]\n",
    "\n",
    "            if len(soz_inds) == 0:\n",
    "                print(subject, feature_name)\n",
    "                raise Exception(\n",
    "                    f\"ERror with this person {subject} {soz_chs} {ch_names}\"\n",
    "                )\n",
    "\n",
    "            #             print(soz_feat.shape, nsoz_feat.shape, feature_map.shape)\n",
    "            #             print(np.std(soz_feat, axis=0).shape)\n",
    "            # average over time\n",
    "            soz_feat = np.mean(soz_feat, axis=0)\n",
    "            nsoz_feat = np.mean(nsoz_feat, axis=0)\n",
    "\n",
    "            # create a time-varying quantile heatmap\n",
    "            soz_quant_map = np.vstack(\n",
    "                [np.quantile(soz_feat, q=q) for q in qtiles]\n",
    "            ).squeeze()\n",
    "            nsoz_quant_map = np.vstack(\n",
    "                [np.quantile(nsoz_feat, q=q) for q in qtiles]\n",
    "            ).squeeze()\n",
    "\n",
    "            #             print(soz_quant_map.shape, nsoz_quant_map.shape)\n",
    "            new_data_feat = np.hstack(\n",
    "                (\n",
    "                    np.mean(soz_feat),\n",
    "                    #                     np.std(soz_feat, axis=0).squeeze(),\n",
    "                    soz_quant_map,\n",
    "                    #                     np.median(soz_feat),\n",
    "                    #                     np.median(nsoz_feat),\n",
    "                    np.mean(nsoz_feat),\n",
    "                    #                     np.std(nsoz_feat, axis=0).squeeze(),\n",
    "                    nsoz_quant_map,\n",
    "                    #                     np.mean(soz_feat) - np.mean(nsoz_feat),\n",
    "                )\n",
    "            )\n",
    "            #             print(subject, np.max(new_data_feat))\n",
    "            #             print(new_data_feat.shape)\n",
    "            #             new_data_feat = np.mean(new_data_feat, axis=1, keepdims=True)\n",
    "            X_buff.extend(new_data_feat.tolist())\n",
    "\n",
    "        # convert buffer to numpy array for feature vector\n",
    "        X_buff = np.array(X_buff)\n",
    "\n",
    "        # get metadata\n",
    "        outcome = meta_df[meta_df[\"patient_id\"] == subject][\"outcome\"].values[0]\n",
    "        engel = meta_df[meta_df[\"patient_id\"] == subject][\"engel_score\"].values[0]\n",
    "        ilae = meta_df[meta_df[\"patient_id\"] == subject][\"ilae_score\"].values[0]\n",
    "\n",
    "        if outcome == \"NR\":\n",
    "            continue\n",
    "\n",
    "        X.append(X_buff)\n",
    "        y.append(outcome)\n",
    "        engels.append(engel)\n",
    "        ilaes.append(ilae)\n",
    "        subjects.append(subject)\n",
    "\n",
    "    return X, y, subjects"
   ]
  },
  {
   "cell_type": "markdown",
   "id": "9441f83a-c7b5-48a2-b706-79364a61f8a1",
   "metadata": {
    "tags": []
   },
   "source": [
    "# Setup Data Directory"
   ]
  },
  {
   "cell_type": "code",
   "execution_count": 7,
   "id": "53f2e42e-644a-4e74-85f8-05382db2130d",
   "metadata": {},
   "outputs": [],
   "source": [
    "root = Path(\"/Users/adam2392/OneDrive - Johns Hopkins/epilepsy_interictal\")\n",
    "# root = Path(\"/home/adam2392/hdd/Dropbox/epilepsy_interictal\")\n",
    "deriv_root = root / \"derivatives\"\n",
    "source_root = root / \"sourcedata\"\n",
    "\n",
    "session = \"extraoperative\"\n",
    "task = \"interictal\"\n",
    "reference = \"average\"\n",
    "deriv_chain = Path(\"originalsampling/fragility\") / 'win500' / reference\n",
    "\n",
    "deriv_path = deriv_root / deriv_chain"
   ]
  },
  {
   "cell_type": "code",
   "execution_count": 8,
   "id": "81a03010-4dc1-40a2-8875-b66f99c997d6",
   "metadata": {},
   "outputs": [],
   "source": [
    "meta_fpath = source_root / \"ieeg_database_all.xlsx\""
   ]
  },
  {
   "cell_type": "code",
   "execution_count": 9,
   "id": "0e87d563-37f0-4c0c-8e77-087e23f2d3c4",
   "metadata": {},
   "outputs": [
    {
     "name": "stdout",
     "output_type": "stream",
     "text": [
      "['NIH1', 'NIH2', 'NIH3', 'NIH4', 'NIH5', 'NIH6', 'NIH7', 'NIH8', 'NIH9', 'NIH10', 'NIH11', 'PY18N002', 'PY18N007', 'PY18N013', 'PY18N015', 'PY19N012', 'PY19N015', 'PY19N023', 'PY19N026', 'jh103', 'jh105', 'la01', 'la02', 'la03', 'la04', 'la05', 'la06', 'la07', 'la08', 'la09', 'la10', 'la11', 'la13', 'la15', 'la16', 'la21', 'la22', 'la23', 'la24', 'nl01', 'nl02', 'nl03', 'nl04', 'nl05', 'nl06', 'nl07', 'nl08', 'nl11', 'nl12', 'nl13', 'nl14', 'nl15', 'nl16', 'nl18', 'nl19', 'nl20', 'pt1', 'pt2', 'pt3', 'rns002', 'rns003', 'rns004', 'rns005', 'rns006', 'rns009', 'rns011', 'rns013', 'rns014', 'rns015', 'tvb1', 'tvb2', 'tvb7', 'tvb8', 'tvb12', 'tvb14', 'tvb17', 'tvb18', 'tvb19', 'tvb23', 'tvb27', 'tvb28', 'tvb29', 'umf001', 'umf002', 'umf003', 'umf004', 'umf005', 'upmc1', 'upmc2', 'upmc3', 'upmc4', 'upmc5', 'upmc6']\n",
      "93\n"
     ]
    }
   ],
   "source": [
    "subjects = natsorted(get_entity_vals(deriv_path, \"subject\"))\n",
    "print(subjects)\n",
    "print(len(subjects))"
   ]
  },
  {
   "cell_type": "markdown",
   "id": "0fed8565-f8b2-424d-9da0-8e7abe95a2ec",
   "metadata": {
    "tags": []
   },
   "source": [
    "## Obtain Labels Using Excel Sheet"
   ]
  },
  {
   "cell_type": "code",
   "execution_count": 10,
   "id": "c2c326f9-9d99-46d4-b27d-09fb3023cbc3",
   "metadata": {},
   "outputs": [
    {
     "data": {
      "text/html": [
       "<div>\n",
       "<style scoped>\n",
       "    .dataframe tbody tr th:only-of-type {\n",
       "        vertical-align: middle;\n",
       "    }\n",
       "\n",
       "    .dataframe tbody tr th {\n",
       "        vertical-align: top;\n",
       "    }\n",
       "\n",
       "    .dataframe thead th {\n",
       "        text-align: right;\n",
       "    }\n",
       "</style>\n",
       "<table border=\"1\" class=\"dataframe\">\n",
       "  <thead>\n",
       "    <tr style=\"text-align: right;\">\n",
       "      <th></th>\n",
       "      <th>org_patientid</th>\n",
       "      <th>patient_id</th>\n",
       "      <th>number_datasets</th>\n",
       "      <th>clinical_center</th>\n",
       "      <th>modality</th>\n",
       "      <th>sfreq</th>\n",
       "      <th>previous_surgery?</th>\n",
       "      <th>clinical_complexity</th>\n",
       "      <th>engel_score</th>\n",
       "      <th>ilae_score</th>\n",
       "      <th>...</th>\n",
       "      <th>epilepsy_type</th>\n",
       "      <th>mri_outcome</th>\n",
       "      <th>postop_progress_info</th>\n",
       "      <th>date_of_recording</th>\n",
       "      <th>date_of_surgery</th>\n",
       "      <th>date_of_last_follow_up</th>\n",
       "      <th>years_follow_up</th>\n",
       "      <th>engel_class_full</th>\n",
       "      <th>notes</th>\n",
       "      <th>Unnamed: 38</th>\n",
       "    </tr>\n",
       "  </thead>\n",
       "  <tbody>\n",
       "    <tr>\n",
       "      <th>0</th>\n",
       "      <td>NaN</td>\n",
       "      <td>la01</td>\n",
       "      <td>1</td>\n",
       "      <td>cc</td>\n",
       "      <td>seeg</td>\n",
       "      <td>1000</td>\n",
       "      <td>Y (SEEG implant 4/2013, craniotomy 4/2013)</td>\n",
       "      <td>4</td>\n",
       "      <td>4</td>\n",
       "      <td>4.0</td>\n",
       "      <td>...</td>\n",
       "      <td>Multi-Focal</td>\n",
       "      <td>Normal</td>\n",
       "      <td>Seizure free since surgery.</td>\n",
       "      <td>2013-04-10 02:11:44</td>\n",
       "      <td>2014-01-01 00:00:00</td>\n",
       "      <td>2019-10-01 00:00:00</td>\n",
       "      <td>5</td>\n",
       "      <td>NaN</td>\n",
       "      <td>NaN</td>\n",
       "      <td>NaN</td>\n",
       "    </tr>\n",
       "    <tr>\n",
       "      <th>1</th>\n",
       "      <td>NaN</td>\n",
       "      <td>la02</td>\n",
       "      <td>1</td>\n",
       "      <td>cc</td>\n",
       "      <td>seeg</td>\n",
       "      <td>1000</td>\n",
       "      <td>VNS implant 4/24/2014</td>\n",
       "      <td>1</td>\n",
       "      <td>1</td>\n",
       "      <td>1.0</td>\n",
       "      <td>...</td>\n",
       "      <td>Focal</td>\n",
       "      <td>Normal</td>\n",
       "      <td>Seizure free since surgery.</td>\n",
       "      <td>NaN</td>\n",
       "      <td>2015-02-01 00:00:00</td>\n",
       "      <td>2018-11-01 00:00:00</td>\n",
       "      <td>3</td>\n",
       "      <td>NaN</td>\n",
       "      <td>PPT says: Lesion?</td>\n",
       "      <td>NaN</td>\n",
       "    </tr>\n",
       "  </tbody>\n",
       "</table>\n",
       "<p>2 rows × 39 columns</p>\n",
       "</div>"
      ],
      "text/plain": [
       "  org_patientid patient_id  number_datasets clinical_center modality  sfreq  \\\n",
       "0           NaN       la01                1              cc     seeg   1000   \n",
       "1           NaN       la02                1              cc     seeg   1000   \n",
       "\n",
       "                            previous_surgery? clinical_complexity  \\\n",
       "0  Y (SEEG implant 4/2013, craniotomy 4/2013)                   4   \n",
       "1                       VNS implant 4/24/2014                   1   \n",
       "\n",
       "   engel_score  ilae_score  ... epilepsy_type mri_outcome  \\\n",
       "0            4         4.0  ...   Multi-Focal      Normal   \n",
       "1            1         1.0  ...         Focal      Normal   \n",
       "\n",
       "          postop_progress_info    date_of_recording      date_of_surgery  \\\n",
       "0  Seizure free since surgery.  2013-04-10 02:11:44  2014-01-01 00:00:00   \n",
       "1  Seizure free since surgery.                  NaN  2015-02-01 00:00:00   \n",
       "\n",
       "  date_of_last_follow_up years_follow_up engel_class_full              notes  \\\n",
       "0    2019-10-01 00:00:00               5              NaN                NaN   \n",
       "1    2018-11-01 00:00:00               3              NaN  PPT says: Lesion?   \n",
       "\n",
       "  Unnamed: 38  \n",
       "0         NaN  \n",
       "1         NaN  \n",
       "\n",
       "[2 rows x 39 columns]"
      ]
     },
     "metadata": {},
     "output_type": "display_data"
    }
   ],
   "source": [
    "meta_df = pd.read_excel(meta_fpath)\n",
    "\n",
    "display(meta_df.head(2))"
   ]
  },
  {
   "cell_type": "markdown",
   "id": "24aa2846-584e-4bea-aa1d-ae7033cc9b7a",
   "metadata": {
    "tags": []
   },
   "source": [
    "# Obtain Fragility Data From Each File"
   ]
  },
  {
   "cell_type": "code",
   "execution_count": 11,
   "id": "aa6952b4-de58-49d2-850c-de4aeb4f7104",
   "metadata": {
    "tags": []
   },
   "outputs": [],
   "source": [
    "dataset = collections.defaultdict(list)\n",
    "\n",
    "for subject in subjects:\n",
    "    subj_dir = deriv_path / f\"sub-{subject}\"\n",
    "    fpaths = subj_dir.glob(\"*desc-perturbmatrix*.npy\")\n",
    "    for idx, fpath in enumerate(fpaths):\n",
    "        data_path = BIDSPath(\n",
    "            subject=subject,\n",
    "            session=session,\n",
    "            task=task,\n",
    "            #             acquisition=acquisition,\n",
    "            run=idx + 1,\n",
    "            suffix=\"desc-perturbmatrix_ieeg\",\n",
    "            extension=\".npy\",\n",
    "            check=False,\n",
    "        )\n",
    "\n",
    "        deriv = read_derivative_npy(fpath, source_check=False)\n",
    "        deriv.load_data()\n",
    "        deriv.normalize()\n",
    "        ch_names = deriv.ch_names\n",
    "\n",
    "        # read in the dataframe of clinical datasheet\n",
    "        #         if subject.startswith(\"pt\"):\n",
    "        #             subject = \"kumc\" + subject.split(\"pt\")[1]\n",
    "        #         elif subject.isnumeric():\n",
    "        #             subject = \"rns\" + subject\n",
    "        pat_dict = read_clinical_excel(meta_fpath, subject=subject)\n",
    "\n",
    "        # get the SOZ channels for this subject\n",
    "        soz_chs = pat_dict[\"SOZ_CONTACTS\"]\n",
    "        frag_mat = deriv.get_data()\n",
    "\n",
    "        dataset[\"subject\"].append(subject)\n",
    "        dataset[\"frag_mat\"].append(frag_mat)\n",
    "        dataset[\"ch_names\"].append(ch_names)\n",
    "        dataset[\"soz_chs\"].append(soz_chs)\n",
    "\n",
    "#         break\n",
    "\n",
    "#     break"
   ]
  },
  {
   "cell_type": "code",
   "execution_count": 13,
   "id": "8c29a05c-7343-4762-8c72-ac2833f4a50c",
   "metadata": {},
   "outputs": [
    {
     "name": "stdout",
     "output_type": "stream",
     "text": [
      "(92, 4855)\n"
     ]
    }
   ],
   "source": [
    "print(frag_mat.shape)"
   ]
  },
  {
   "cell_type": "code",
   "execution_count": 14,
   "id": "a26126bc-e4c6-4fea-b549-a2d2b8532cc1",
   "metadata": {
    "tags": []
   },
   "outputs": [],
   "source": [
    "feature_name = [\"frag_mat\"]\n",
    "X, y, subjects = get_Xy_vector(dataset, feature_name, threshold=None)"
   ]
  },
  {
   "cell_type": "code",
   "execution_count": 15,
   "id": "d559cd88-4b49-4a07-ad19-6baa2cc68703",
   "metadata": {},
   "outputs": [
    {
     "name": "stdout",
     "output_type": "stream",
     "text": [
      "(100, 8)\n",
      "(100,)\n",
      "(100,)\n",
      "[1. 1. 1. 1. 1. 0. 0. 0. 0. 0. 0. 0. 0. 1. 1. 0. 0. 1. 1. 0. 0. 1. 1. 0.\n",
      " 1. 0. 0. 0. 0. 1. 0. 0. 0. 0. 1. 0. 0. 1. 0. 1. 0. 0. 0. 1. 1. 1. 1. 0.\n",
      " 1. 0. 1. 1. 1. 0. 1. 1. 1. 1. 1. 1. 1. 1. 1. 1. 1. 1. 0. 0. 0. 0. 1. 0.\n",
      " 0. 0. 0. 0. 0. 0. 0. 1. 0. 0. 1. 1. 0. 0. 0. 0. 0. 1. 0. 0. 1. 1. 1. 1.\n",
      " 0. 1. 0. 1.]\n"
     ]
    }
   ],
   "source": [
    "X = np.array(X).squeeze()\n",
    "y = np.array(y).squeeze()\n",
    "subjects = np.array(subjects)\n",
    "y = enc.fit_transform(y[:, np.newaxis]).squeeze()\n",
    "\n",
    "# print(new_data_feat.shape)\n",
    "print(X.shape)\n",
    "print(y.shape)\n",
    "print(subjects.shape)\n",
    "print(y)"
   ]
  },
  {
   "cell_type": "code",
   "execution_count": 16,
   "id": "d74fc65d-0685-4a02-93f7-55e2649c69b3",
   "metadata": {},
   "outputs": [
    {
     "data": {
      "image/png": "[encoded data removed]",
      "text/plain": [
       "<Figure size 432x288 with 2 Axes>"
      ]
     },
     "metadata": {
      "needs_background": "light"
     },
     "output_type": "display_data"
    }
   ],
   "source": [
    "sns.heatmap(X)\n",
    "plt.show()"
   ]
  },
  {
   "cell_type": "markdown",
   "id": "8a4e6a75-fdd9-476e-be04-7a0e38e2c3e3",
   "metadata": {
    "tags": []
   },
   "source": [
    "# Define Cross Validation Function"
   ]
  },
  {
   "cell_type": "code",
   "execution_count": 17,
   "id": "ab0eb137-7af2-4dce-b149-f9920a1ec68f",
   "metadata": {
    "tags": []
   },
   "outputs": [],
   "source": [
    "n_splits = 10\n",
    "train_size = 0.8\n",
    "random_state = 12345\n",
    "\n",
    "subject_groups = np.array(subjects)"
   ]
  },
  {
   "cell_type": "code",
   "execution_count": 18,
   "id": "3adfe346-b87f-42ff-a227-216b1d993fa7",
   "metadata": {
    "tags": []
   },
   "outputs": [],
   "source": [
    "cv = StratifiedShuffleSplit(\n",
    "    n_splits=n_splits, train_size=train_size, random_state=random_state\n",
    ")"
   ]
  },
  {
   "cell_type": "markdown",
   "id": "38525eca-fae8-4e14-a169-7640ab46cead",
   "metadata": {},
   "source": [
    "# Run Classification Validation Pipeline"
   ]
  },
  {
   "cell_type": "code",
   "execution_count": 19,
   "id": "769b9bf4-98a6-480c-bc2c-0f0b832bd787",
   "metadata": {},
   "outputs": [
    {
     "name": "stdout",
     "output_type": "stream",
     "text": [
      "['NIH1' 'NIH2' 'NIH3' 'NIH4' 'NIH5' 'NIH6' 'NIH7' 'NIH8' 'NIH9' 'NIH10'\n",
      " 'NIH11' 'PY18N002' 'PY18N007' 'PY18N013' 'PY18N015' 'PY19N012' 'PY19N015'\n",
      " 'PY19N023' 'PY19N026' 'jh103' 'jh103' 'jh105' 'jh105' 'la01' 'la02'\n",
      " 'la03' 'la04' 'la05' 'la06' 'la07' 'la08' 'la09' 'la10' 'la11' 'la13'\n",
      " 'la15' 'la16' 'la21' 'la22' 'la23' 'la24' 'nl01' 'nl03' 'nl04' 'nl05'\n",
      " 'nl07' 'nl08' 'nl12' 'nl13' 'nl14' 'nl15' 'nl16' 'nl18' 'nl19' 'nl20'\n",
      " 'pt1' 'pt1' 'pt1' 'pt1' 'pt2' 'pt2' 'pt2' 'pt2' 'pt3' 'pt3' 'pt3'\n",
      " 'rns002' 'rns003' 'rns004' 'rns005' 'rns006' 'rns009' 'rns011' 'rns013'\n",
      " 'rns014' 'rns015' 'tvb1' 'tvb2' 'tvb7' 'tvb8' 'tvb12' 'tvb14' 'tvb17'\n",
      " 'tvb18' 'tvb19' 'tvb23' 'tvb27' 'tvb28' 'tvb29' 'umf001' 'umf002'\n",
      " 'umf003' 'umf004' 'umf005' 'upmc1' 'upmc2' 'upmc3' 'upmc4' 'upmc5'\n",
      " 'upmc6']\n"
     ]
    }
   ],
   "source": [
    "print(subjects)"
   ]
  },
  {
   "cell_type": "code",
   "execution_count": 20,
   "id": "146a0af9-fb9d-4c03-85e0-e63b0f006220",
   "metadata": {},
   "outputs": [],
   "source": [
    "n_features = X.shape[1]\n",
    "model_params = {\n",
    "    #     \"projection_matrix\": \"RerF\",\n",
    "    \"n_estimators\": 2000,\n",
    "    \"max_features\": n_features * 2,\n",
    "    \"n_jobs\": -1,\n",
    "    \"random_state\": random_state,\n",
    "}\n",
    "\n",
    "\n",
    "# model_params[\"projection_matrix\"] = \"S-RerF\"\n",
    "# model_params[\"image_height\"] = 24\n",
    "# model_params[\"image_width\"] = 30\n",
    "\n",
    "\n",
    "# clf = rerfClassifier(**model_params)\n",
    "clf = ObliqueForestClassifier(**model_params)\n",
    "# clf = RandomForestClassifier(**model_params)"
   ]
  },
  {
   "cell_type": "code",
   "execution_count": 21,
   "id": "1089a592-3cdd-485f-ac24-c4f2c68c2cac",
   "metadata": {},
   "outputs": [],
   "source": [
    "# perform CV using Sklearn\n",
    "scoring_funcs = {\n",
    "    \"roc_auc\": roc_auc_score,\n",
    "    \"accuracy\": accuracy_score,\n",
    "    \"balanced_accuracy\": balanced_accuracy_score,\n",
    "    \"average_precision\": average_precision_score,\n",
    "    \"precision\": \"\",\n",
    "    \"neg_brier_score\": brier_score_loss,\n",
    "    \"recall\": \"\",\n",
    "    \"f1\": \"\",\n",
    "}\n",
    "\n",
    "# run cross-validation\n",
    "scores = cross_validate(\n",
    "    clf,\n",
    "    X,\n",
    "    y,\n",
    "    #     groups=subject_groups,\n",
    "    #     cv=zip(train_index, test_index),\n",
    "    cv=cv,\n",
    "    scoring=list(scoring_funcs.keys()),\n",
    "    return_estimator=True,\n",
    "    return_train_score=True,\n",
    "    n_jobs=1,\n",
    ")"
   ]
  },
  {
   "cell_type": "code",
   "execution_count": 22,
   "id": "7aa92299-e626-43f7-a075-61db4ba2fd12",
   "metadata": {},
   "outputs": [
    {
     "name": "stdout",
     "output_type": "stream",
     "text": [
      "Using estimator  ObliqueForestClassifier(max_features=16, n_estimators=2000, n_jobs=-1,\n",
      "                        random_state=12345)\n"
     ]
    }
   ],
   "source": [
    "# get the estimators\n",
    "estimators = scores.pop(\"estimator\")\n",
    "\n",
    "print(\"Using estimator \", estimators[0])\n",
    "\n",
    "# initialize keys to list\n",
    "for key in [\n",
    "    \"test_fraction_pos\",\n",
    "    \"test_mean_pred_value\",\n",
    "    \"test_fpr\",\n",
    "    \"test_tpr\",\n",
    "    \"test_fnr\",\n",
    "    \"test_tnr\",\n",
    "    \"test_thresholds\",\n",
    "    \"train_subjects\",\n",
    "    \"test_subjects\",\n",
    "]:\n",
    "    scores[key] = []\n",
    "\n",
    "for idx, (train_inds, test_inds) in enumerate(cv.split(X, y)):\n",
    "    estimator = estimators[idx]\n",
    "    # evaluate on the test set\n",
    "    y_test = y[test_inds]\n",
    "    X_test = X[test_inds, :]\n",
    "    y_pred_prob = estimator.predict_proba(X_test)[:, 1]\n",
    "\n",
    "    # compute calibration curve\n",
    "    fraction_of_positives, mean_predicted_value = calibration_curve(\n",
    "        y_test, y_pred_prob, n_bins=10, strategy=\"quantile\"\n",
    "    )\n",
    "    scores[\"train_subjects\"].append(subjects[train_inds])\n",
    "    scores[\"test_subjects\"].append(subjects[test_inds])\n",
    "    scores[\"test_fraction_pos\"].append(fraction_of_positives)\n",
    "    scores[\"test_mean_pred_value\"].append(mean_predicted_value)\n",
    "\n",
    "    # store ROC curve metrics on the held-out test set\n",
    "    fpr, tpr, thresholds = roc_curve(y_test, y_pred_prob, pos_label=1)\n",
    "    fnr, tnr, neg_thresholds = roc_curve(y_test, y_pred_prob, pos_label=0)\n",
    "    scores[\"test_fpr\"].append(fpr)\n",
    "    scores[\"test_tpr\"].append(tpr)\n",
    "    scores[\"test_fnr\"].append(fnr)\n",
    "    scores[\"test_tnr\"].append(tnr)\n",
    "    scores[\"test_thresholds\"].append(thresholds)"
   ]
  },
  {
   "cell_type": "code",
   "execution_count": 21,
   "id": "4affefc6-9c9b-4c96-b273-142121c9c38d",
   "metadata": {},
   "outputs": [
    {
     "name": "stdout",
     "output_type": "stream",
     "text": [
      "/Users/adam2392/OneDrive - Johns Hopkins/epilepsy_interictal/derivatives/cv10_exp_frag_mat.json\n"
     ]
    }
   ],
   "source": [
    "fname = deriv_root / f\"cv{n_splits}_exp_{feature_name[0]}.json\"\n",
    "print(fname)"
   ]
  },
  {
   "cell_type": "code",
   "execution_count": 142,
   "id": "7654f2cc-501c-4439-808e-22fef55190c7",
   "metadata": {},
   "outputs": [],
   "source": [
    "with open(fname.with_suffix(\".json\"), \"w\") as fp:\n",
    "    json.dump(scores, fp, cls=NumpyEncoder)"
   ]
  },
  {
   "cell_type": "markdown",
   "id": "393cee35-b499-439f-8281-7f1aa97c6313",
   "metadata": {
    "tags": []
   },
   "source": [
    "# Make Plots of the Data"
   ]
  },
  {
   "cell_type": "code",
   "execution_count": 23,
   "id": "f6501306-1781-4057-b875-af5161366207",
   "metadata": {},
   "outputs": [
    {
     "ename": "NameError",
     "evalue": "name 'feature_scores' is not defined",
     "output_type": "error",
     "traceback": [
      "\u001b[0;31m---------------------------------------------------------------------------\u001b[0m",
      "\u001b[0;31mNameError\u001b[0m                                 Traceback (most recent call last)",
      "\u001b[0;32m/var/folders/6_/sl83qtkd68x3_mvfys07_6qm0000gn/T/ipykernel_33055/3726038290.py\u001b[0m in \u001b[0;36m<module>\u001b[0;34m\u001b[0m\n\u001b[0;32m----> 1\u001b[0;31m \u001b[0mscores\u001b[0m \u001b[0;34m=\u001b[0m \u001b[0mfeature_scores\u001b[0m\u001b[0;34m\u001b[0m\u001b[0;34m\u001b[0m\u001b[0m\n\u001b[0m",
      "\u001b[0;31mNameError\u001b[0m: name 'feature_scores' is not defined"
     ]
    }
   ],
   "source": [
    "scores = feature_scores"
   ]
  },
  {
   "cell_type": "code",
   "execution_count": 24,
   "id": "e5fa46d7-0ede-4fb2-8ea4-d8da1deb42c5",
   "metadata": {},
   "outputs": [],
   "source": [
    "which_set = \"test\"\n",
    "\n",
    "tprs = []\n",
    "aucs = scores[f\"{which_set}_roc_auc\"]\n",
    "mean_fpr = np.linspace(0, 1, 100)\n",
    "\n",
    "for idx in range(n_splits):\n",
    "    fpr = scores[f\"{which_set}_fpr\"][idx]\n",
    "    tpr = scores[f\"{which_set}_tpr\"][idx]\n",
    "\n",
    "    # interpolate the tpr\n",
    "    interp_tpr = np.interp(mean_fpr, fpr, tpr)\n",
    "    interp_tpr[0] = 0.0\n",
    "    tprs.append(interp_tpr)\n",
    "\n",
    "mean_tpr = np.mean(tprs, axis=0)\n",
    "mean_tpr[-1] = 1.0\n",
    "mean_auc = auc(mean_fpr, mean_tpr)\n",
    "mean_auc = np.mean(aucs)\n",
    "std_auc = np.std(aucs)\n",
    "\n",
    "std_tpr = np.std(tprs, axis=0)\n",
    "tprs_upper = np.minimum(mean_tpr + std_tpr, 1)\n",
    "tprs_lower = np.maximum(mean_tpr - std_tpr, 0)"
   ]
  },
  {
   "cell_type": "markdown",
   "id": "c8b5b89e-b29e-4af3-bbc0-ef423c86ea12",
   "metadata": {},
   "source": [
    "## Print out Summary Statistics"
   ]
  },
  {
   "cell_type": "code",
   "execution_count": 25,
   "id": "9f5f1c01-16b1-4e34-af33-8c860c69c4f8",
   "metadata": {},
   "outputs": [
    {
     "name": "stdout",
     "output_type": "stream",
     "text": [
      "0.5565656565656566 0.0645912011262552\n"
     ]
    }
   ],
   "source": [
    "print(np.mean(aucs), np.std(aucs))"
   ]
  },
  {
   "cell_type": "code",
   "execution_count": 26,
   "id": "aeb8db54-fa73-4b4f-923d-e16bbf2b4f37",
   "metadata": {},
   "outputs": [
    {
     "name": "stdout",
     "output_type": "stream",
     "text": [
      "0.5353535353535354 +/- 0.07622749876656934\n"
     ]
    }
   ],
   "source": [
    "metric = \"test_balanced_accuracy\"\n",
    "print(np.mean(scores[metric]), \"+/-\", np.std(scores[metric]))"
   ]
  },
  {
   "cell_type": "markdown",
   "id": "d6fb4d78-3af4-41da-9139-8393643376af",
   "metadata": {},
   "source": [
    "## Making ROC Curve With Confidence Interval"
   ]
  },
  {
   "cell_type": "code",
   "execution_count": 25,
   "id": "11fa1946-b657-49b5-a9b2-075ef9447c0a",
   "metadata": {},
   "outputs": [
    {
     "data": {
      "image/png": "[encoded data removed]",
      "text/plain": [
       "<Figure size 432x288 with 1 Axes>"
      ]
     },
     "metadata": {
      "needs_background": "light"
     },
     "output_type": "display_data"
    }
   ],
   "source": [
    "fig, ax = plt.subplots()\n",
    "\n",
    "for idx in range(n_splits):\n",
    "    fpr = scores[f\"{which_set}_fpr\"][idx]\n",
    "    tpr = scores[f\"{which_set}_tpr\"][idx]\n",
    "\n",
    "    ax.plot(fpr, tpr, color=\"b\", lw=2, alpha=0.5)\n",
    "\n",
    "ax.plot([0, 1], [0, 1], linestyle=\"--\", lw=2, color=\"r\", label=\"Chance\", alpha=0.8)\n",
    "ax.plot(\n",
    "    mean_fpr,\n",
    "    mean_tpr,\n",
    "    color=\"b\",\n",
    "    label=r\"Mean ROC (AUC = %0.2f $\\pm$ %0.2f)\" % (mean_auc, std_auc),\n",
    "    lw=2,\n",
    "    alpha=0.8,\n",
    ")\n",
    "\n",
    "\n",
    "ax.fill_between(\n",
    "    mean_fpr,\n",
    "    tprs_lower,\n",
    "    tprs_upper,\n",
    "    color=\"grey\",\n",
    "    alpha=0.2,\n",
    "    label=r\"$\\pm$ 1 std. dev.\",\n",
    ")\n",
    "ax.set(\n",
    "    xlim=[-0.05, 1.05],\n",
    "    ylim=[-0.05, 1.05],\n",
    "    title=f\"Receiver operating characteristic curve {which_set}\",\n",
    ")\n",
    "ax.legend(loc=\"lower right\")\n",
    "plt.show()"
   ]
  },
  {
   "cell_type": "code",
   "execution_count": null,
   "id": "60c42c9c-01a1-4e85-9ce6-6a5c77e59730",
   "metadata": {},
   "outputs": [],
   "source": []
  },
  {
   "cell_type": "code",
   "execution_count": null,
   "id": "6a117342-112e-4761-9440-fc954671fe4a",
   "metadata": {},
   "outputs": [],
   "source": []
  }
 ],
 "metadata": {
  "kernelspec": {
   "display_name": "episcalp",
   "language": "python",
   "name": "episcalp"
  },
  "language_info": {
   "codemirror_mode": {
    "name": "ipython",
    "version": 3
   },
   "file_extension": ".py",
   "mimetype": "text/x-python",
   "name": "python",
   "nbconvert_exporter": "python",
   "pygments_lexer": "ipython3",
   "version": "3.8.12"
  }
 },
 "nbformat": 4,
 "nbformat_minor": 5
}
