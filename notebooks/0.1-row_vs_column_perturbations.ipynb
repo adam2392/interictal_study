{
 "cells": [
  {
   "cell_type": "markdown",
   "metadata": {},
   "source": [
    "# Interictal Analysis - Neural Fragility\n",
    "\n",
    "In the fragility perturbation model, we traditionally perturb the columns of the linear system matrix. However, assuming the system is not symmetric, then a row-perturbation provides an alternative view on how epileptic a region might be hypothesized."
   ]
  },
  {
   "cell_type": "code",
   "execution_count": 2,
   "metadata": {},
   "outputs": [],
   "source": [
    "import os\n",
    "import re\n",
    "import json\n",
    "import random\n",
    "import collections\n",
    "from pprint import pprint\n",
    "from pathlib import Path\n",
    "import sys\n",
    "\n",
    "import numpy as np\n",
    "import pandas as pd\n",
    "import scipy\n",
    "\n",
    "from eztrack.utils import warn\n",
    "from mne_bids import read_raw_bids, BIDSPath, get_entity_vals\n",
    "from natsort import natsorted, index_natsorted, order_by_index\n",
    "import scipy\n",
    "import math\n",
    "\n",
    "sys.path.append('../')\n",
    "\n",
    "from analysis.fragility.posthoc import read_perturbation_result\n",
    "\n",
    "%matplotlib inline\n",
    "import matplotlib.pyplot as plt\n",
    "import seaborn as sns"
   ]
  },
  {
   "cell_type": "markdown",
   "metadata": {},
   "source": [
    "# Load Data"
   ]
  },
  {
   "cell_type": "code",
   "execution_count": 4,
   "metadata": {},
   "outputs": [],
   "source": [
    "WORKSTATION = \"home\"\n",
    "\n",
    "if WORKSTATION == \"home\":\n",
    "    # bids root to write BIDS data to\n",
    "    # the root of the BIDS dataset\n",
    "    root = Path(\"/Users/adam2392/Dropbox/epilepsy_bids/\")\n",
    "    output_dir = root / 'derivatives' / 'interictal'\n",
    "\n",
    "    figures_dir = output_dir / 'figures'\n",
    "\n",
    "    # path to excel layout file - would be changed to the datasheet locally\n",
    "    excel_fpath = Path(\n",
    "        \"/Users/adam2392/Dropbox/epilepsy_bids/sourcedata/organized_clinical_datasheet_raw.xlsx\"\n",
    "    )\n",
    "elif WORKSTATION == \"lab\":\n",
    "    root = Path(\"/home/adam2392/hdd/epilepsy_bids/\")\n",
    "    excel_fpath = Path(\n",
    "        \"/home/adam2392/hdd/epilepsy_bids/sourcedata/organized_clinical_datasheet_raw.xlsx\"\n",
    "    )\n",
    "\n",
    "    # output directory\n",
    "    output_dir = Path(\"/home/adam2392/hdd/epilepsy_bids\") / 'derivatives' / 'interictal'\n",
    "\n",
    "    # figures directory\n",
    "    figures_dir = output_dir / 'figures'\n",
    "    "
   ]
  },
  {
   "cell_type": "code",
   "execution_count": 6,
   "metadata": {},
   "outputs": [
    {
     "name": "stdout",
     "output_type": "stream",
     "text": [
      "Analyzing interictal task for jh103.\n",
      "Found ['01', '02'] runs for interictal task.\n",
      "TRYING TO READ RESULT FILENAME  sub-jh103_ses-presurgery_task-interictal_acq-ecog_run-01_desc-rowperturbmatrix_ieeg.npy\n",
      "Loading /Users/adam2392/Dropbox/epilepsy_bids/derivatives/interictal/1000Hz/fragility/monopolar/sub-jh103/sub-jh103_ses-presurgery_task-interictal_acq-ecog_run-01_desc-rowperturbmatrix_ieeg.npy, which exists: True\n",
      "TRYING TO READ RESULT FILENAME  sub-jh103_ses-presurgery_task-interictal_acq-ecog_run-01_desc-rowperturbmatrix_ieeg.npy\n",
      "Loading /Users/adam2392/Dropbox/epilepsy_bids/derivatives/interictal/1000Hz/fragility/monopolar/sub-jh103/sub-jh103_ses-presurgery_task-interictal_acq-ecog_run-01_desc-rowperturbmatrix_ieeg.npy, which exists: True\n"
     ]
    }
   ],
   "source": [
    "SUBJECTS = [\n",
    "    'jh103',\n",
    "    'jh105'\n",
    "]\n",
    "\n",
    "session = \"presurgery\"  # only one session\n",
    "task = \"interictal\"\n",
    "datatype = \"ieeg\"\n",
    "acquisition = \"ecog\"  # or SEEG\n",
    "extension = \".vhdr\"\n",
    "\n",
    "if acquisition == 'ecog':\n",
    "    ignore_acquisitions = ['seeg']\n",
    "elif acquisition == 'seeg':\n",
    "    ignore_acquisitions = ['ecog']\n",
    "\n",
    "reference = 'monopolar'\n",
    "sfreq = None  # either resample or don't\n",
    "\n",
    "# get the runs for this subject\n",
    "all_subjects = get_entity_vals(root, \"subject\")\n",
    "\n",
    "for subject in all_subjects:\n",
    "    if subject not in SUBJECTS:\n",
    "        continue\n",
    "    ignore_subs = [sub for sub in all_subjects if sub != subject]\n",
    "    all_tasks = get_entity_vals(root, \"task\", ignore_subjects=ignore_subs)\n",
    "    ignore_tasks = [tsk for tsk in all_tasks if tsk != task]\n",
    "\n",
    "    print(f\"Analyzing {task} task for {subject}.\")\n",
    "    ignore_tasks = [tsk for tsk in all_tasks if tsk != task]\n",
    "    runs = get_entity_vals(\n",
    "        root, 'run', ignore_subjects=ignore_subs,\n",
    "        ignore_tasks=ignore_tasks,\n",
    "        ignore_acquisitions=ignore_acquisitions\n",
    "    )\n",
    "    print(f'Found {runs} runs for {task} task.')\n",
    "\n",
    "    deriv_path = (output_dir\n",
    "                  # /  'nodepth'\n",
    "                  / '1000Hz'\n",
    "                  / \"fragility\"\n",
    "                  / reference\n",
    "                  / f\"sub-{subject}\")\n",
    "    \n",
    "    for idx, run in enumerate(runs):\n",
    "        # create path for the dataset\n",
    "        bids_path = BIDSPath(\n",
    "            subject=subject,\n",
    "            session=session,\n",
    "            task=task,\n",
    "            run=run,\n",
    "            datatype=datatype,\n",
    "            acquisition=acquisition,\n",
    "            suffix=datatype,\n",
    "            root=root,\n",
    "#             extension=extension,\n",
    "        )\n",
    "        source_basename = bids_path.basename\n",
    "        description = 'perturbmatrix'\n",
    "        col_result = read_perturbation_result(deriv_path, source_basename, description)\n",
    "        \n",
    "        description = 'rowperturbmatrix'\n",
    "        row_result = read_perturbation_result(deriv_path, source_basename, description)\n",
    "        \n",
    "        break\n",
    "    break"
   ]
  },
  {
   "cell_type": "code",
   "execution_count": null,
   "metadata": {},
   "outputs": [],
   "source": []
  }
 ],
 "metadata": {
  "kernelspec": {
   "display_name": "sickkids",
   "language": "python",
   "name": "sickkids"
  },
  "language_info": {
   "codemirror_mode": {
    "name": "ipython",
    "version": 3
   },
   "file_extension": ".py",
   "mimetype": "text/x-python",
   "name": "python",
   "nbconvert_exporter": "python",
   "pygments_lexer": "ipython3",
   "version": "3.7.8"
  }
 },
 "nbformat": 4,
 "nbformat_minor": 4
}
